{
  "nbformat": 4,
  "nbformat_minor": 0,
  "metadata": {
    "colab": {
      "provenance": [],
      "authorship_tag": "ABX9TyOZdxv2TqySp0iSADQAi5hf",
      "include_colab_link": true
    },
    "kernelspec": {
      "name": "python3",
      "display_name": "Python 3"
    },
    "language_info": {
      "name": "python"
    }
  },
  "cells": [
    {
      "cell_type": "markdown",
      "metadata": {
        "id": "view-in-github",
        "colab_type": "text"
      },
      "source": [
        "<a href=\"https://colab.research.google.com/github/LuciferX45/Deep-Learning-Labs/blob/main/DL_LAB7.ipynb\" target=\"_parent\"><img src=\"https://colab.research.google.com/assets/colab-badge.svg\" alt=\"Open In Colab\"/></a>"
      ]
    },
    {
      "cell_type": "markdown",
      "source": [
        "# **DL LAB 7**\n",
        "# **Gautam Padhi**\n",
        "# I034 B2\n",
        "# BTech AI SEM V\n"
      ],
      "metadata": {
        "id": "w7eqSR9HpHkC"
      }
    },
    {
      "cell_type": "code",
      "execution_count": null,
      "metadata": {
        "id": "Kcy3GA-C0K8B"
      },
      "outputs": [],
      "source": [
        "import numpy as np\n",
        "import keras\n",
        "import matplotlib.pyplot as plt\n",
        "import tensorflow as tf"
      ]
    },
    {
      "cell_type": "code",
      "execution_count": null,
      "metadata": {
        "id": "Gz6c9vYL0XLg",
        "colab": {
          "base_uri": "https://localhost:8080/"
        },
        "outputId": "e872f47d-7389-44bf-e0dd-b5f5f500946f"
      },
      "outputs": [
        {
          "output_type": "stream",
          "name": "stdout",
          "text": [
            "Downloading data from https://storage.googleapis.com/tensorflow/tf-keras-datasets/mnist.npz\n",
            "11493376/11490434 [==============================] - 0s 0us/step\n",
            "11501568/11490434 [==============================] - 0s 0us/step\n"
          ]
        }
      ],
      "source": [
        "(xtrain, ytrain), (xtest, ytest) = tf.keras.datasets.mnist.load_data()"
      ]
    },
    {
      "cell_type": "code",
      "execution_count": null,
      "metadata": {
        "colab": {
          "base_uri": "https://localhost:8080/"
        },
        "id": "ZTWNyS_S0fUf",
        "outputId": "1bff4b7e-0a6b-4e16-d474-01f35b27abe1"
      },
      "outputs": [
        {
          "output_type": "execute_result",
          "data": {
            "text/plain": [
              "(60000, 28, 28)"
            ]
          },
          "metadata": {},
          "execution_count": 3
        }
      ],
      "source": [
        "xtrain.shape"
      ]
    },
    {
      "cell_type": "code",
      "execution_count": null,
      "metadata": {
        "colab": {
          "base_uri": "https://localhost:8080/"
        },
        "id": "7aJdWp1E0lFv",
        "outputId": "0acae8f1-ae91-45e9-dadf-248b015f841a"
      },
      "outputs": [
        {
          "output_type": "execute_result",
          "data": {
            "text/plain": [
              "(60000,)"
            ]
          },
          "metadata": {},
          "execution_count": 4
        }
      ],
      "source": [
        "ytrain.shape"
      ]
    },
    {
      "cell_type": "code",
      "execution_count": null,
      "metadata": {
        "colab": {
          "base_uri": "https://localhost:8080/"
        },
        "id": "oR0jkfop0mPX",
        "outputId": "a779d9c8-6d3c-45e3-ce87-94aab85e2d1b"
      },
      "outputs": [
        {
          "output_type": "execute_result",
          "data": {
            "text/plain": [
              "(10000, 28, 28)"
            ]
          },
          "metadata": {},
          "execution_count": 5
        }
      ],
      "source": [
        "xtest.shape"
      ]
    },
    {
      "cell_type": "code",
      "execution_count": null,
      "metadata": {
        "colab": {
          "base_uri": "https://localhost:8080/"
        },
        "id": "4vP0sPos0oA_",
        "outputId": "0501b6a7-3a3a-4b0c-98ce-f02e06fb8eaf"
      },
      "outputs": [
        {
          "output_type": "execute_result",
          "data": {
            "text/plain": [
              "(10000,)"
            ]
          },
          "metadata": {},
          "execution_count": 6
        }
      ],
      "source": [
        "ytest.shape"
      ]
    },
    {
      "cell_type": "code",
      "execution_count": null,
      "metadata": {
        "colab": {
          "base_uri": "https://localhost:8080/"
        },
        "id": "5g0xoZkF05tw",
        "outputId": "8c365e10-5bb6-482f-e632-f05343f2c601"
      },
      "outputs": [
        {
          "output_type": "execute_result",
          "data": {
            "text/plain": [
              "(28, 28)"
            ]
          },
          "metadata": {},
          "execution_count": 7
        }
      ],
      "source": [
        "xtrain[0].shape"
      ]
    },
    {
      "cell_type": "code",
      "execution_count": null,
      "metadata": {
        "colab": {
          "base_uri": "https://localhost:8080/",
          "height": 282
        },
        "id": "apnXX4g50pkf",
        "outputId": "9e7e319a-45aa-40b1-a3fd-1640328cfee2"
      },
      "outputs": [
        {
          "output_type": "execute_result",
          "data": {
            "text/plain": [
              "<matplotlib.image.AxesImage at 0x7f0d1019d6d0>"
            ]
          },
          "metadata": {},
          "execution_count": 8
        },
        {
          "output_type": "display_data",
          "data": {
            "text/plain": [
              "<Figure size 432x288 with 1 Axes>"
            ],
            "image/png": "[encoded data removed]"
          },
          "metadata": {
            "needs_background": "light"
          }
        }
      ],
      "source": [
        "plt.imshow(xtrain[0])"
      ]
    },
    {
      "cell_type": "code",
      "execution_count": null,
      "metadata": {
        "id": "5FTzxA2g0wvP"
      },
      "outputs": [],
      "source": [
        "#adding channel to the entire xtrain\n",
        "xtrain = xtrain.reshape(xtrain.shape[0],28,28,1) "
      ]
    },
    {
      "cell_type": "code",
      "execution_count": null,
      "metadata": {
        "id": "Yrco-Uek1Whf"
      },
      "outputs": [],
      "source": [
        "#adding channel to the entire xtest\n",
        "xtest = xtest.reshape(xtest.shape[0],28,28,1) "
      ]
    },
    {
      "cell_type": "code",
      "execution_count": null,
      "metadata": {
        "colab": {
          "base_uri": "https://localhost:8080/"
        },
        "id": "nVANLw3e2OKP",
        "outputId": "c1f3ed67-78f2-4f33-f709-2c264ae1fd6a"
      },
      "outputs": [
        {
          "output_type": "execute_result",
          "data": {
            "text/plain": [
              "(60000, 28, 28, 1)"
            ]
          },
          "metadata": {},
          "execution_count": 11
        }
      ],
      "source": [
        "xtrain.shape"
      ]
    },
    {
      "cell_type": "code",
      "execution_count": null,
      "metadata": {
        "id": "2zKFEIn-2Ps_"
      },
      "outputs": [],
      "source": [
        "xtrain = xtrain.astype('float32')\n",
        "xtest = xtest.astype('float32')"
      ]
    },
    {
      "cell_type": "code",
      "execution_count": null,
      "metadata": {
        "id": "KcfOCp1Q2cLP"
      },
      "outputs": [],
      "source": [
        "xtrain = xtrain/255\n",
        "xtest = xtest/255"
      ]
    },
    {
      "cell_type": "code",
      "execution_count": null,
      "metadata": {
        "id": "w6lYYcRk3IZX"
      },
      "outputs": [],
      "source": [
        "from sklearn.preprocessing import OneHotEncoder\n",
        "encoder = OneHotEncoder(sparse = False)"
      ]
    },
    {
      "cell_type": "code",
      "execution_count": null,
      "metadata": {
        "id": "L1aNXYbq3SUH"
      },
      "outputs": [],
      "source": [
        "ytrain = ytrain.reshape(-1,1)\n",
        "ytest = ytest.reshape(-1,1)"
      ]
    },
    {
      "cell_type": "code",
      "execution_count": null,
      "metadata": {
        "id": "QycOYjpT3Xtf"
      },
      "outputs": [],
      "source": [
        "ytrain_ohe = encoder.fit_transform(ytrain)"
      ]
    },
    {
      "cell_type": "code",
      "execution_count": null,
      "metadata": {
        "id": "SG1AK1gT3q5m"
      },
      "outputs": [],
      "source": [
        "ytest_ohe = encoder.fit_transform(ytest)"
      ]
    },
    {
      "cell_type": "markdown",
      "metadata": {
        "id": "UvFqcXirBEER"
      },
      "source": [
        "#Model 1"
      ]
    },
    {
      "cell_type": "code",
      "execution_count": null,
      "metadata": {
        "colab": {
          "base_uri": "https://localhost:8080/"
        },
        "id": "cgetmtVJBFUw",
        "outputId": "5996ae81-3b63-4a3c-8675-1fe732f7e129"
      },
      "outputs": [
        {
          "output_type": "stream",
          "name": "stdout",
          "text": [
            "Model: \"sequential\"\n",
            "_________________________________________________________________\n",
            " Layer (type)                Output Shape              Param #   \n",
            "=================================================================\n",
            " conv2d (Conv2D)             (None, 26, 26, 20)        200       \n",
            "                                                                 \n",
            " max_pooling2d (MaxPooling2D  (None, 13, 13, 20)       0         \n",
            " )                                                               \n",
            "                                                                 \n",
            " flatten (Flatten)           (None, 3380)              0         \n",
            "                                                                 \n",
            " dense (Dense)               (None, 128)               432768    \n",
            "                                                                 \n",
            " dense_1 (Dense)             (None, 10)                1290      \n",
            "                                                                 \n",
            "=================================================================\n",
            "Total params: 434,258\n",
            "Trainable params: 434,258\n",
            "Non-trainable params: 0\n",
            "_________________________________________________________________\n",
            "Epoch 1/10\n",
            "1875/1875 [==============================] - 45s 23ms/step - loss: 0.1592 - accuracy: 0.9527 - val_loss: 0.0654 - val_accuracy: 0.9794\n",
            "Epoch 2/10\n",
            "1875/1875 [==============================] - 33s 17ms/step - loss: 0.0542 - accuracy: 0.9836 - val_loss: 0.0600 - val_accuracy: 0.9796\n",
            "Epoch 3/10\n",
            "1875/1875 [==============================] - 35s 19ms/step - loss: 0.0344 - accuracy: 0.9889 - val_loss: 0.0501 - val_accuracy: 0.9822\n",
            "Epoch 4/10\n",
            "1875/1875 [==============================] - 34s 18ms/step - loss: 0.0227 - accuracy: 0.9926 - val_loss: 0.0453 - val_accuracy: 0.9854\n",
            "Epoch 5/10\n",
            "1875/1875 [==============================] - 32s 17ms/step - loss: 0.0146 - accuracy: 0.9953 - val_loss: 0.0467 - val_accuracy: 0.9877\n",
            "Epoch 6/10\n",
            "1875/1875 [==============================] - 31s 17ms/step - loss: 0.0106 - accuracy: 0.9966 - val_loss: 0.0530 - val_accuracy: 0.9846\n",
            "Epoch 7/10\n",
            "1875/1875 [==============================] - 31s 17ms/step - loss: 0.0092 - accuracy: 0.9972 - val_loss: 0.0575 - val_accuracy: 0.9842\n",
            "Epoch 8/10\n",
            "1875/1875 [==============================] - 32s 17ms/step - loss: 0.0060 - accuracy: 0.9981 - val_loss: 0.0553 - val_accuracy: 0.9855\n",
            "Epoch 9/10\n",
            "1875/1875 [==============================] - 33s 18ms/step - loss: 0.0050 - accuracy: 0.9984 - val_loss: 0.0542 - val_accuracy: 0.9868\n",
            "Epoch 10/10\n",
            "1875/1875 [==============================] - 33s 17ms/step - loss: 0.0041 - accuracy: 0.9987 - val_loss: 0.0571 - val_accuracy: 0.9862\n"
          ]
        }
      ],
      "source": [
        "input_shape = (28, 28, 1)\n",
        "model = tf.keras.Sequential()\n",
        "#Convolution layer\n",
        "model.add(tf.keras.layers.Conv2D(20, kernel_size=(3, 3),padding = 'valid',activation='relu',input_shape=input_shape))\n",
        "#Pooling layers\n",
        "model.add(tf.keras.layers.MaxPooling2D(pool_size=(2, 2)))\n",
        "#Flatten\n",
        "model.add(tf.keras.layers.Flatten())\n",
        "#Fully connected layers\n",
        "model.add(tf.keras.layers.Dense(128, activation='relu'))\n",
        "#output\n",
        "model.add(tf.keras.layers.Dense(10, activation='softmax'))\n",
        "model.compile(loss=tf.keras.losses.categorical_crossentropy,optimizer='adam',metrics=['accuracy'])\n",
        "model.summary()\n",
        "history = model.fit(xtrain,ytrain_ohe,epochs = 10, validation_data=(xtest, ytest_ohe))"
      ]
    },
    {
      "cell_type": "code",
      "execution_count": null,
      "metadata": {
        "colab": {
          "base_uri": "https://localhost:8080/",
          "height": 279
        },
        "id": "Igqy4AbEBMha",
        "outputId": "56d21f35-eadc-4d33-8d6f-02df896a1725"
      },
      "outputs": [
        {
          "output_type": "display_data",
          "data": {
            "text/plain": [
              "<Figure size 432x288 with 1 Axes>"
            ],
            "image/png": "[encoded data removed]"
          },
          "metadata": {
            "needs_background": "light"
          }
        }
      ],
      "source": [
        "epochs = [i for i in range(1,11)]\n",
        "acc_train = history.history['accuracy']\n",
        "acc_val = history.history['val_accuracy']\n",
        "plt.plot(epochs, acc_train, 'b', label='Training accuracy')\n",
        "plt.plot(epochs, acc_val, 'g', label='Validation accuracy')\n",
        "plt.xlabel('Epochs')\n",
        "plt.ylabel('Accuracy')\n",
        "plt.legend()\n",
        "plt.show()"
      ]
    },
    {
      "cell_type": "code",
      "execution_count": null,
      "metadata": {
        "colab": {
          "base_uri": "https://localhost:8080/",
          "height": 295
        },
        "id": "ZnVOrpaFBMhb",
        "outputId": "50911b54-19d3-436c-ae14-e1e2e3d5a178"
      },
      "outputs": [
        {
          "output_type": "display_data",
          "data": {
            "text/plain": [
              "<Figure size 432x288 with 1 Axes>"
            ],
            "image/png": "[encoded data removed]"
          },
          "metadata": {
            "needs_background": "light"
          }
        }
      ],
      "source": [
        "loss_train = history.history['loss']\n",
        "loss_val = history.history['val_loss']\n",
        "plt.plot(epochs, loss_train, 'g', label='Training loss')\n",
        "plt.plot(epochs, loss_val, 'b', label='validation loss')\n",
        "plt.title('Training and Validation loss')\n",
        "plt.xlabel('Epochs')\n",
        "plt.ylabel('Loss')\n",
        "plt.legend()\n",
        "plt.show()"
      ]
    },
    {
      "cell_type": "markdown",
      "metadata": {
        "id": "9Jz7U6fuBBEQ"
      },
      "source": [
        "#Model 2"
      ]
    },
    {
      "cell_type": "code",
      "execution_count": null,
      "metadata": {
        "id": "YURpUb3p4FL_"
      },
      "outputs": [],
      "source": [
        "input_shape = (28, 28, 1)\n",
        "model = tf.keras.Sequential()\n",
        "#Convolution layer\n",
        "model.add(tf.keras.layers.Conv2D(20, kernel_size=(3, 3),padding = 'valid',activation='relu',input_shape=input_shape))\n",
        "#Pooling layers\n",
        "model.add(tf.keras.layers.MaxPooling2D(pool_size=(2, 2)))\n",
        "#Convolution layers\n",
        "model.add(tf.keras.layers.Conv2D(32, kernel_size=(3, 3),padding = 'valid',activation='relu',input_shape=input_shape))\n",
        "#Pooling layers\n",
        "model.add(tf.keras.layers.MaxPooling2D(pool_size=(2, 2)))\n",
        "#Dropout\n",
        "model.add(tf.keras.layers.Dropout(0.25))\n",
        "#Flatten\n",
        "model.add(tf.keras.layers.Flatten())\n",
        "#Fully connected layers\n",
        "model.add(tf.keras.layers.Dense(128, activation='relu'))\n",
        "#output\n",
        "model.add(tf.keras.layers.Dense(10, activation='softmax'))"
      ]
    },
    {
      "cell_type": "code",
      "execution_count": null,
      "metadata": {
        "colab": {
          "base_uri": "https://localhost:8080/"
        },
        "id": "V_OnBgDp6J-M",
        "outputId": "ceaf2fe9-521a-4d3f-97e0-7e307143f60f"
      },
      "outputs": [
        {
          "output_type": "stream",
          "name": "stdout",
          "text": [
            "Model: \"sequential_1\"\n",
            "_________________________________________________________________\n",
            " Layer (type)                Output Shape              Param #   \n",
            "=================================================================\n",
            " conv2d_1 (Conv2D)           (None, 26, 26, 20)        200       \n",
            "                                                                 \n",
            " max_pooling2d_1 (MaxPooling  (None, 13, 13, 20)       0         \n",
            " 2D)                                                             \n",
            "                                                                 \n",
            " conv2d_2 (Conv2D)           (None, 11, 11, 32)        5792      \n",
            "                                                                 \n",
            " max_pooling2d_2 (MaxPooling  (None, 5, 5, 32)         0         \n",
            " 2D)                                                             \n",
            "                                                                 \n",
            " dropout (Dropout)           (None, 5, 5, 32)          0         \n",
            "                                                                 \n",
            " flatten_1 (Flatten)         (None, 800)               0         \n",
            "                                                                 \n",
            " dense_2 (Dense)             (None, 128)               102528    \n",
            "                                                                 \n",
            " dense_3 (Dense)             (None, 10)                1290      \n",
            "                                                                 \n",
            "=================================================================\n",
            "Total params: 109,810\n",
            "Trainable params: 109,810\n",
            "Non-trainable params: 0\n",
            "_________________________________________________________________\n",
            "Epoch 1/10\n",
            "1875/1875 [==============================] - 46s 24ms/step - loss: 0.1712 - accuracy: 0.9478 - val_loss: 0.0550 - val_accuracy: 0.9818\n",
            "Epoch 2/10\n",
            "1875/1875 [==============================] - 45s 24ms/step - loss: 0.0629 - accuracy: 0.9807 - val_loss: 0.0379 - val_accuracy: 0.9877\n",
            "Epoch 3/10\n",
            "1875/1875 [==============================] - 52s 28ms/step - loss: 0.0467 - accuracy: 0.9849 - val_loss: 0.0312 - val_accuracy: 0.9896\n",
            "Epoch 4/10\n",
            "1875/1875 [==============================] - 45s 24ms/step - loss: 0.0376 - accuracy: 0.9880 - val_loss: 0.0253 - val_accuracy: 0.9906\n",
            "Epoch 5/10\n",
            "1875/1875 [==============================] - 44s 23ms/step - loss: 0.0310 - accuracy: 0.9902 - val_loss: 0.0274 - val_accuracy: 0.9900\n",
            "Epoch 6/10\n",
            "1875/1875 [==============================] - 44s 23ms/step - loss: 0.0259 - accuracy: 0.9915 - val_loss: 0.0298 - val_accuracy: 0.9904\n",
            "Epoch 7/10\n",
            "1875/1875 [==============================] - 43s 23ms/step - loss: 0.0242 - accuracy: 0.9921 - val_loss: 0.0302 - val_accuracy: 0.9905\n",
            "Epoch 8/10\n",
            "1875/1875 [==============================] - 42s 22ms/step - loss: 0.0204 - accuracy: 0.9934 - val_loss: 0.0255 - val_accuracy: 0.9917\n",
            "Epoch 9/10\n",
            "1875/1875 [==============================] - 42s 23ms/step - loss: 0.0179 - accuracy: 0.9939 - val_loss: 0.0239 - val_accuracy: 0.9922\n",
            "Epoch 10/10\n",
            "1875/1875 [==============================] - 44s 24ms/step - loss: 0.0164 - accuracy: 0.9944 - val_loss: 0.0294 - val_accuracy: 0.9916\n"
          ]
        }
      ],
      "source": [
        "model.compile(loss=tf.keras.losses.categorical_crossentropy,optimizer='adam',metrics=['accuracy'])\n",
        "model.summary()\n",
        "history = model.fit(xtrain,ytrain_ohe,epochs = 10, validation_data=(xtest, ytest_ohe))"
      ]
    },
    {
      "cell_type": "code",
      "execution_count": null,
      "metadata": {
        "colab": {
          "base_uri": "https://localhost:8080/",
          "height": 279
        },
        "id": "TK3LJb9J7mC7",
        "outputId": "52a433ff-1ca6-4b94-f23a-25f16879faee"
      },
      "outputs": [
        {
          "output_type": "display_data",
          "data": {
            "text/plain": [
              "<Figure size 432x288 with 1 Axes>"
            ],
            "image/png": "[encoded data removed]"
          },
          "metadata": {
            "needs_background": "light"
          }
        }
      ],
      "source": [
        "epochs = [i for i in range(1,11)]\n",
        "acc_train = history.history['accuracy']\n",
        "acc_val = history.history['val_accuracy']\n",
        "plt.plot(epochs, acc_train, 'b', label='Training accuracy')\n",
        "plt.plot(epochs, acc_val, 'g', label='Validation accuracy')\n",
        "plt.xlabel('Epochs')\n",
        "plt.ylabel('Accuracy')\n",
        "plt.legend()\n",
        "plt.show()"
      ]
    },
    {
      "cell_type": "code",
      "execution_count": null,
      "metadata": {
        "colab": {
          "base_uri": "https://localhost:8080/",
          "height": 295
        },
        "id": "QttjO04B-AWT",
        "outputId": "f398e348-34ef-4c1e-cf8e-5b3232a6b219"
      },
      "outputs": [
        {
          "output_type": "display_data",
          "data": {
            "text/plain": [
              "<Figure size 432x288 with 1 Axes>"
            ],
            "image/png": "[encoded data removed]"
          },
          "metadata": {
            "needs_background": "light"
          }
        }
      ],
      "source": [
        "loss_train = history.history['loss']\n",
        "loss_val = history.history['val_loss']\n",
        "plt.plot(epochs, loss_train, 'g', label='Training loss')\n",
        "plt.plot(epochs, loss_val, 'b', label='validation loss')\n",
        "plt.title('Training and Validation loss')\n",
        "plt.xlabel('Epochs')\n",
        "plt.ylabel('Loss')\n",
        "plt.legend()\n",
        "plt.show()"
      ]
    },
    {
      "cell_type": "markdown",
      "metadata": {
        "id": "bd59z2z1BPVJ"
      },
      "source": [
        "#LeNet 5"
      ]
    },
    {
      "cell_type": "code",
      "execution_count": null,
      "metadata": {
        "id": "heMjNSymBdAQ"
      },
      "outputs": [],
      "source": [
        "lenet_5_model = keras.models.Sequential([\n",
        "    tf.keras.layers.Conv2D(6, kernel_size=5, strides=1,  activation='tanh', input_shape=input_shape, padding='same'), \n",
        "    tf.keras.layers.AveragePooling2D(),\n",
        "    tf.keras.layers.Conv2D(16, kernel_size=5, strides=1, activation='tanh', padding='valid'), \n",
        "    tf.keras.layers.AveragePooling2D(), \n",
        "    tf.keras.layers.Conv2D(120, kernel_size=5, strides=1, activation='tanh', padding='valid'), \n",
        "    tf.keras.layers.Flatten(),\n",
        "    tf.keras.layers.Dense(84, activation='tanh'), \n",
        "    tf.keras.layers.Dense(10, activation='softmax') \n",
        "])"
      ]
    },
    {
      "cell_type": "code",
      "execution_count": null,
      "metadata": {
        "colab": {
          "base_uri": "https://localhost:8080/"
        },
        "id": "rrkhNv3hBvpA",
        "outputId": "757d7fa4-c730-42c9-bda2-13c688f0124a"
      },
      "outputs": [
        {
          "output_type": "stream",
          "name": "stdout",
          "text": [
            "Model: \"sequential_2\"\n",
            "_________________________________________________________________\n",
            " Layer (type)                Output Shape              Param #   \n",
            "=================================================================\n",
            " conv2d_3 (Conv2D)           (None, 28, 28, 6)         156       \n",
            "                                                                 \n",
            " average_pooling2d (AverageP  (None, 14, 14, 6)        0         \n",
            " ooling2D)                                                       \n",
            "                                                                 \n",
            " conv2d_4 (Conv2D)           (None, 10, 10, 16)        2416      \n",
            "                                                                 \n",
            " average_pooling2d_1 (Averag  (None, 5, 5, 16)         0         \n",
            " ePooling2D)                                                     \n",
            "                                                                 \n",
            " conv2d_5 (Conv2D)           (None, 1, 1, 120)         48120     \n",
            "                                                                 \n",
            " flatten_2 (Flatten)         (None, 120)               0         \n",
            "                                                                 \n",
            " dense_4 (Dense)             (None, 84)                10164     \n",
            "                                                                 \n",
            " dense_5 (Dense)             (None, 10)                850       \n",
            "                                                                 \n",
            "=================================================================\n",
            "Total params: 61,706\n",
            "Trainable params: 61,706\n",
            "Non-trainable params: 0\n",
            "_________________________________________________________________\n",
            "Epoch 1/10\n",
            "1875/1875 [==============================] - 45s 24ms/step - loss: 0.2245 - accuracy: 0.9325 - val_loss: 0.1124 - val_accuracy: 0.9645\n",
            "Epoch 2/10\n",
            "1875/1875 [==============================] - 47s 25ms/step - loss: 0.0889 - accuracy: 0.9727 - val_loss: 0.0799 - val_accuracy: 0.9739\n",
            "Epoch 3/10\n",
            "1875/1875 [==============================] - 49s 26ms/step - loss: 0.0598 - accuracy: 0.9809 - val_loss: 0.0580 - val_accuracy: 0.9816\n",
            "Epoch 4/10\n",
            "1875/1875 [==============================] - 44s 24ms/step - loss: 0.0458 - accuracy: 0.9860 - val_loss: 0.0564 - val_accuracy: 0.9835\n",
            "Epoch 5/10\n",
            "1875/1875 [==============================] - 45s 24ms/step - loss: 0.0368 - accuracy: 0.9884 - val_loss: 0.0568 - val_accuracy: 0.9831\n",
            "Epoch 6/10\n",
            "1875/1875 [==============================] - 48s 26ms/step - loss: 0.0299 - accuracy: 0.9906 - val_loss: 0.0544 - val_accuracy: 0.9835\n",
            "Epoch 7/10\n",
            "1875/1875 [==============================] - 48s 25ms/step - loss: 0.0265 - accuracy: 0.9916 - val_loss: 0.0492 - val_accuracy: 0.9838\n",
            "Epoch 8/10\n",
            "1875/1875 [==============================] - 48s 25ms/step - loss: 0.0208 - accuracy: 0.9932 - val_loss: 0.0508 - val_accuracy: 0.9842\n",
            "Epoch 9/10\n",
            "1875/1875 [==============================] - 47s 25ms/step - loss: 0.0196 - accuracy: 0.9934 - val_loss: 0.0512 - val_accuracy: 0.9859\n",
            "Epoch 10/10\n",
            "1875/1875 [==============================] - 48s 25ms/step - loss: 0.0165 - accuracy: 0.9945 - val_loss: 0.0511 - val_accuracy: 0.9866\n"
          ]
        }
      ],
      "source": [
        "lenet_5_model.compile(loss=tf.keras.losses.categorical_crossentropy,optimizer='adam',metrics=['accuracy'])\n",
        "lenet_5_model.summary()\n",
        "history = lenet_5_model.fit(xtrain,ytrain_ohe,epochs = 10, validation_data=(xtest, ytest_ohe))"
      ]
    },
    {
      "cell_type": "code",
      "execution_count": null,
      "metadata": {
        "colab": {
          "base_uri": "https://localhost:8080/",
          "height": 279
        },
        "id": "UI49uhSBB4UN",
        "outputId": "67fa119c-14e0-48a1-a070-e18e909babd2"
      },
      "outputs": [
        {
          "output_type": "display_data",
          "data": {
            "text/plain": [
              "<Figure size 432x288 with 1 Axes>"
            ],
            "image/png": "[encoded data removed]"
          },
          "metadata": {
            "needs_background": "light"
          }
        }
      ],
      "source": [
        "epochs = [i for i in range(1,11)]\n",
        "acc_train = history.history['accuracy']\n",
        "acc_val = history.history['val_accuracy']\n",
        "plt.plot(epochs, acc_train, 'b', label='Training accuracy')\n",
        "plt.plot(epochs, acc_val, 'g', label='Validation accuracy')\n",
        "plt.xlabel('Epochs')\n",
        "plt.ylabel('Accuracy')\n",
        "plt.legend()\n",
        "plt.show()"
      ]
    },
    {
      "cell_type": "code",
      "execution_count": null,
      "metadata": {
        "colab": {
          "base_uri": "https://localhost:8080/",
          "height": 295
        },
        "id": "W5TtTG6qB4UP",
        "outputId": "c8548690-5784-47c6-ffa0-2d6f18c5f28a"
      },
      "outputs": [
        {
          "output_type": "display_data",
          "data": {
            "text/plain": [
              "<Figure size 432x288 with 1 Axes>"
            ],
            "image/png": "[encoded data removed]"
          },
          "metadata": {
            "needs_background": "light"
          }
        }
      ],
      "source": [
        "loss_train = history.history['loss']\n",
        "loss_val = history.history['val_loss']\n",
        "plt.plot(epochs, loss_train, 'g', label='Training loss')\n",
        "plt.plot(epochs, loss_val, 'b', label='validation loss')\n",
        "plt.title('Training and Validation loss')\n",
        "plt.xlabel('Epochs')\n",
        "plt.ylabel('Loss')\n",
        "plt.legend()\n",
        "plt.show()"
      ]
    }
  ]
}