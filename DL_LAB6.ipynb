{
  "nbformat": 4,
  "nbformat_minor": 0,
  "metadata": {
    "colab": {
      "provenance": [],
      "authorship_tag": "ABX9TyP0wBOhZ00w5sYEiWkKySgR",
      "include_colab_link": true
    },
    "kernelspec": {
      "name": "python3",
      "display_name": "Python 3"
    },
    "language_info": {
      "name": "python"
    }
  },
  "cells": [
    {
      "cell_type": "markdown",
      "metadata": {
        "id": "view-in-github",
        "colab_type": "text"
      },
      "source": [
        "<a href=\"https://colab.research.google.com/github/LuciferX45/Deep-Learning-Labs/blob/main/DL_LAB6.ipynb\" target=\"_parent\"><img src=\"https://colab.research.google.com/assets/colab-badge.svg\" alt=\"Open In Colab\"/></a>"
      ]
    },
    {
      "cell_type": "markdown",
      "source": [
        "# **DL LAB 6**\n",
        "# **Gautam Padhi**\n",
        "# I034 B2\n",
        "# BTech AI SEM V\n"
      ],
      "metadata": {
        "id": "kzbmEaKNoJLl"
      }
    },
    {
      "cell_type": "code",
      "execution_count": null,
      "metadata": {
        "id": "TCG2diW6UZNU"
      },
      "outputs": [],
      "source": [
        "import tensorflow as tf\n",
        "import numpy as np\n",
        "import pandas as pd\n",
        "import matplotlib.pyplot as plt\n",
        "from sklearn.preprocessing import OneHotEncoder, StandardScaler"
      ]
    },
    {
      "cell_type": "code",
      "source": [
        "data = pd.read_csv('/content/seeds.csv')"
      ],
      "metadata": {
        "id": "S4AFsj7BUiO3"
      },
      "execution_count": null,
      "outputs": []
    },
    {
      "cell_type": "code",
      "source": [
        "data.head()"
      ],
      "metadata": {
        "colab": {
          "base_uri": "https://localhost:8080/",
          "height": 206
        },
        "id": "uH0awT3KVTdt",
        "outputId": "1e801a4d-c1ca-4ea2-e1ef-9f5e12a6fdf3"
      },
      "execution_count": null,
      "outputs": [
        {
          "output_type": "execute_result",
          "data": {
            "text/plain": [
              "    Area  Perimeter  Compactness  Kernel.Length  Kernel.Width  \\\n",
              "0  15.26      14.84       0.8710          5.763         3.312   \n",
              "1  14.88      14.57       0.8811          5.554         3.333   \n",
              "2  14.29      14.09       0.9050          5.291         3.337   \n",
              "3  13.84      13.94       0.8955          5.324         3.379   \n",
              "4  16.14      14.99       0.9034          5.658         3.562   \n",
              "\n",
              "   Asymmetry.Coeff  Kernel.Groove  Type  \n",
              "0            2.221          5.220     1  \n",
              "1            1.018          4.956     1  \n",
              "2            2.699          4.825     1  \n",
              "3            2.259          4.805     1  \n",
              "4            1.355          5.175     1  "
            ],
            "text/html": [
              "\n",
              "  <div id=\"df-15e7d9e1-5d97-404d-916b-6fca5e01fcad\">\n",
              "    <div class=\"colab-df-container\">\n",
              "      <div>\n",
              "<style scoped>\n",
              "    .dataframe tbody tr th:only-of-type {\n",
              "        vertical-align: middle;\n",
              "    }\n",
              "\n",
              "    .dataframe tbody tr th {\n",
              "        vertical-align: top;\n",
              "    }\n",
              "\n",
              "    .dataframe thead th {\n",
              "        text-align: right;\n",
              "    }\n",
              "</style>\n",
              "<table border=\"1\" class=\"dataframe\">\n",
              "  <thead>\n",
              "    <tr style=\"text-align: right;\">\n",
              "      <th></th>\n",
              "      <th>Area</th>\n",
              "      <th>Perimeter</th>\n",
              "      <th>Compactness</th>\n",
              "      <th>Kernel.Length</th>\n",
              "      <th>Kernel.Width</th>\n",
              "      <th>Asymmetry.Coeff</th>\n",
              "      <th>Kernel.Groove</th>\n",
              "      <th>Type</th>\n",
              "    </tr>\n",
              "  </thead>\n",
              "  <tbody>\n",
              "    <tr>\n",
              "      <th>0</th>\n",
              "      <td>15.26</td>\n",
              "      <td>14.84</td>\n",
              "      <td>0.8710</td>\n",
              "      <td>5.763</td>\n",
              "      <td>3.312</td>\n",
              "      <td>2.221</td>\n",
              "      <td>5.220</td>\n",
              "      <td>1</td>\n",
              "    </tr>\n",
              "    <tr>\n",
              "      <th>1</th>\n",
              "      <td>14.88</td>\n",
              "      <td>14.57</td>\n",
              "      <td>0.8811</td>\n",
              "      <td>5.554</td>\n",
              "      <td>3.333</td>\n",
              "      <td>1.018</td>\n",
              "      <td>4.956</td>\n",
              "      <td>1</td>\n",
              "    </tr>\n",
              "    <tr>\n",
              "      <th>2</th>\n",
              "      <td>14.29</td>\n",
              "      <td>14.09</td>\n",
              "      <td>0.9050</td>\n",
              "      <td>5.291</td>\n",
              "      <td>3.337</td>\n",
              "      <td>2.699</td>\n",
              "      <td>4.825</td>\n",
              "      <td>1</td>\n",
              "    </tr>\n",
              "    <tr>\n",
              "      <th>3</th>\n",
              "      <td>13.84</td>\n",
              "      <td>13.94</td>\n",
              "      <td>0.8955</td>\n",
              "      <td>5.324</td>\n",
              "      <td>3.379</td>\n",
              "      <td>2.259</td>\n",
              "      <td>4.805</td>\n",
              "      <td>1</td>\n",
              "    </tr>\n",
              "    <tr>\n",
              "      <th>4</th>\n",
              "      <td>16.14</td>\n",
              "      <td>14.99</td>\n",
              "      <td>0.9034</td>\n",
              "      <td>5.658</td>\n",
              "      <td>3.562</td>\n",
              "      <td>1.355</td>\n",
              "      <td>5.175</td>\n",
              "      <td>1</td>\n",
              "    </tr>\n",
              "  </tbody>\n",
              "</table>\n",
              "</div>\n",
              "      <button class=\"colab-df-convert\" onclick=\"convertToInteractive('df-15e7d9e1-5d97-404d-916b-6fca5e01fcad')\"\n",
              "              title=\"Convert this dataframe to an interactive table.\"\n",
              "              style=\"display:none;\">\n",
              "        \n",
              "  <svg xmlns=\"http://www.w3.org/2000/svg\" height=\"24px\"viewBox=\"0 0 24 24\"\n",
              "       width=\"24px\">\n",
              "    <path d=\"M0 0h24v24H0V0z\" fill=\"none\"/>\n",
              "    <path d=\"M18.56 5.44l.94 2.06.94-2.06 2.06-.94-2.06-.94-.94-2.06-.94 2.06-2.06.94zm-11 1L8.5 8.5l.94-2.06 2.06-.94-2.06-.94L8.5 2.5l-.94 2.06-2.06.94zm10 10l.94 2.06.94-2.06 2.06-.94-2.06-.94-.94-2.06-.94 2.06-2.06.94z\"/><path d=\"M17.41 7.96l-1.37-1.37c-.4-.4-.92-.59-1.43-.59-.52 0-1.04.2-1.43.59L10.3 9.45l-7.72 7.72c-.78.78-.78 2.05 0 2.83L4 21.41c.39.39.9.59 1.41.59.51 0 1.02-.2 1.41-.59l7.78-7.78 2.81-2.81c.8-.78.8-2.07 0-2.86zM5.41 20L4 18.59l7.72-7.72 1.47 1.35L5.41 20z\"/>\n",
              "  </svg>\n",
              "      </button>\n",
              "      \n",
              "  <style>\n",
              "    .colab-df-container {\n",
              "      display:flex;\n",
              "      flex-wrap:wrap;\n",
              "      gap: 12px;\n",
              "    }\n",
              "\n",
              "    .colab-df-convert {\n",
              "      background-color: #E8F0FE;\n",
              "      border: none;\n",
              "      border-radius: 50%;\n",
              "      cursor: pointer;\n",
              "      display: none;\n",
              "      fill: #1967D2;\n",
              "      height: 32px;\n",
              "      padding: 0 0 0 0;\n",
              "      width: 32px;\n",
              "    }\n",
              "\n",
              "    .colab-df-convert:hover {\n",
              "      background-color: #E2EBFA;\n",
              "      box-shadow: 0px 1px 2px rgba(60, 64, 67, 0.3), 0px 1px 3px 1px rgba(60, 64, 67, 0.15);\n",
              "      fill: #174EA6;\n",
              "    }\n",
              "\n",
              "    [theme=dark] .colab-df-convert {\n",
              "      background-color: #3B4455;\n",
              "      fill: #D2E3FC;\n",
              "    }\n",
              "\n",
              "    [theme=dark] .colab-df-convert:hover {\n",
              "      background-color: #434B5C;\n",
              "      box-shadow: 0px 1px 3px 1px rgba(0, 0, 0, 0.15);\n",
              "      filter: drop-shadow(0px 1px 2px rgba(0, 0, 0, 0.3));\n",
              "      fill: #FFFFFF;\n",
              "    }\n",
              "  </style>\n",
              "\n",
              "      <script>\n",
              "        const buttonEl =\n",
              "          document.querySelector('#df-15e7d9e1-5d97-404d-916b-6fca5e01fcad button.colab-df-convert');\n",
              "        buttonEl.style.display =\n",
              "          google.colab.kernel.accessAllowed ? 'block' : 'none';\n",
              "\n",
              "        async function convertToInteractive(key) {\n",
              "          const element = document.querySelector('#df-15e7d9e1-5d97-404d-916b-6fca5e01fcad');\n",
              "          const dataTable =\n",
              "            await google.colab.kernel.invokeFunction('convertToInteractive',\n",
              "                                                     [key], {});\n",
              "          if (!dataTable) return;\n",
              "\n",
              "          const docLinkHtml = 'Like what you see? Visit the ' +\n",
              "            '<a target=\"_blank\" href=https://colab.research.google.com/notebooks/data_table.ipynb>data table notebook</a>'\n",
              "            + ' to learn more about interactive tables.';\n",
              "          element.innerHTML = '';\n",
              "          dataTable['output_type'] = 'display_data';\n",
              "          await google.colab.output.renderOutput(dataTable, element);\n",
              "          const docLink = document.createElement('div');\n",
              "          docLink.innerHTML = docLinkHtml;\n",
              "          element.appendChild(docLink);\n",
              "        }\n",
              "      </script>\n",
              "    </div>\n",
              "  </div>\n",
              "  "
            ]
          },
          "metadata": {},
          "execution_count": 3
        }
      ]
    },
    {
      "cell_type": "code",
      "source": [
        "label = np.array(data.iloc[:,-1])\n",
        "label = label.reshape((-1,1))"
      ],
      "metadata": {
        "id": "SKJ24yRrVUqR"
      },
      "execution_count": null,
      "outputs": []
    },
    {
      "cell_type": "code",
      "source": [
        "del data['Type']\n",
        "data.shape"
      ],
      "metadata": {
        "colab": {
          "base_uri": "https://localhost:8080/"
        },
        "id": "8Ak_-p8bVuxh",
        "outputId": "ae7cd7f6-d505-453b-908a-4d662b8490e4"
      },
      "execution_count": null,
      "outputs": [
        {
          "output_type": "execute_result",
          "data": {
            "text/plain": [
              "(199, 7)"
            ]
          },
          "metadata": {},
          "execution_count": 5
        }
      ]
    },
    {
      "cell_type": "code",
      "source": [
        "encoder = OneHotEncoder(sparse=False)\n",
        "encoder_df = encoder.fit_transform(label)\n",
        "d = pd.DataFrame({0:encoder_df[:,0],1:encoder_df[:,1], 2:encoder_df[:,2]})\n",
        "d"
      ],
      "metadata": {
        "colab": {
          "base_uri": "https://localhost:8080/",
          "height": 424
        },
        "id": "VOi9VY0JWA0h",
        "outputId": "f84839e8-9772-42ee-e08d-048f732bae30"
      },
      "execution_count": null,
      "outputs": [
        {
          "output_type": "execute_result",
          "data": {
            "text/plain": [
              "       0    1    2\n",
              "0    1.0  0.0  0.0\n",
              "1    1.0  0.0  0.0\n",
              "2    1.0  0.0  0.0\n",
              "3    1.0  0.0  0.0\n",
              "4    1.0  0.0  0.0\n",
              "..   ...  ...  ...\n",
              "194  0.0  0.0  1.0\n",
              "195  0.0  0.0  1.0\n",
              "196  0.0  0.0  1.0\n",
              "197  0.0  0.0  1.0\n",
              "198  0.0  0.0  1.0\n",
              "\n",
              "[199 rows x 3 columns]"
            ],
            "text/html": [
              "\n",
              "  <div id=\"df-90dd1902-111b-4551-8a5a-fc0fa631509c\">\n",
              "    <div class=\"colab-df-container\">\n",
              "      <div>\n",
              "<style scoped>\n",
              "    .dataframe tbody tr th:only-of-type {\n",
              "        vertical-align: middle;\n",
              "    }\n",
              "\n",
              "    .dataframe tbody tr th {\n",
              "        vertical-align: top;\n",
              "    }\n",
              "\n",
              "    .dataframe thead th {\n",
              "        text-align: right;\n",
              "    }\n",
              "</style>\n",
              "<table border=\"1\" class=\"dataframe\">\n",
              "  <thead>\n",
              "    <tr style=\"text-align: right;\">\n",
              "      <th></th>\n",
              "      <th>0</th>\n",
              "      <th>1</th>\n",
              "      <th>2</th>\n",
              "    </tr>\n",
              "  </thead>\n",
              "  <tbody>\n",
              "    <tr>\n",
              "      <th>0</th>\n",
              "      <td>1.0</td>\n",
              "      <td>0.0</td>\n",
              "      <td>0.0</td>\n",
              "    </tr>\n",
              "    <tr>\n",
              "      <th>1</th>\n",
              "      <td>1.0</td>\n",
              "      <td>0.0</td>\n",
              "      <td>0.0</td>\n",
              "    </tr>\n",
              "    <tr>\n",
              "      <th>2</th>\n",
              "      <td>1.0</td>\n",
              "      <td>0.0</td>\n",
              "      <td>0.0</td>\n",
              "    </tr>\n",
              "    <tr>\n",
              "      <th>3</th>\n",
              "      <td>1.0</td>\n",
              "      <td>0.0</td>\n",
              "      <td>0.0</td>\n",
              "    </tr>\n",
              "    <tr>\n",
              "      <th>4</th>\n",
              "      <td>1.0</td>\n",
              "      <td>0.0</td>\n",
              "      <td>0.0</td>\n",
              "    </tr>\n",
              "    <tr>\n",
              "      <th>...</th>\n",
              "      <td>...</td>\n",
              "      <td>...</td>\n",
              "      <td>...</td>\n",
              "    </tr>\n",
              "    <tr>\n",
              "      <th>194</th>\n",
              "      <td>0.0</td>\n",
              "      <td>0.0</td>\n",
              "      <td>1.0</td>\n",
              "    </tr>\n",
              "    <tr>\n",
              "      <th>195</th>\n",
              "      <td>0.0</td>\n",
              "      <td>0.0</td>\n",
              "      <td>1.0</td>\n",
              "    </tr>\n",
              "    <tr>\n",
              "      <th>196</th>\n",
              "      <td>0.0</td>\n",
              "      <td>0.0</td>\n",
              "      <td>1.0</td>\n",
              "    </tr>\n",
              "    <tr>\n",
              "      <th>197</th>\n",
              "      <td>0.0</td>\n",
              "      <td>0.0</td>\n",
              "      <td>1.0</td>\n",
              "    </tr>\n",
              "    <tr>\n",
              "      <th>198</th>\n",
              "      <td>0.0</td>\n",
              "      <td>0.0</td>\n",
              "      <td>1.0</td>\n",
              "    </tr>\n",
              "  </tbody>\n",
              "</table>\n",
              "<p>199 rows × 3 columns</p>\n",
              "</div>\n",
              "      <button class=\"colab-df-convert\" onclick=\"convertToInteractive('df-90dd1902-111b-4551-8a5a-fc0fa631509c')\"\n",
              "              title=\"Convert this dataframe to an interactive table.\"\n",
              "              style=\"display:none;\">\n",
              "        \n",
              "  <svg xmlns=\"http://www.w3.org/2000/svg\" height=\"24px\"viewBox=\"0 0 24 24\"\n",
              "       width=\"24px\">\n",
              "    <path d=\"M0 0h24v24H0V0z\" fill=\"none\"/>\n",
              "    <path d=\"M18.56 5.44l.94 2.06.94-2.06 2.06-.94-2.06-.94-.94-2.06-.94 2.06-2.06.94zm-11 1L8.5 8.5l.94-2.06 2.06-.94-2.06-.94L8.5 2.5l-.94 2.06-2.06.94zm10 10l.94 2.06.94-2.06 2.06-.94-2.06-.94-.94-2.06-.94 2.06-2.06.94z\"/><path d=\"M17.41 7.96l-1.37-1.37c-.4-.4-.92-.59-1.43-.59-.52 0-1.04.2-1.43.59L10.3 9.45l-7.72 7.72c-.78.78-.78 2.05 0 2.83L4 21.41c.39.39.9.59 1.41.59.51 0 1.02-.2 1.41-.59l7.78-7.78 2.81-2.81c.8-.78.8-2.07 0-2.86zM5.41 20L4 18.59l7.72-7.72 1.47 1.35L5.41 20z\"/>\n",
              "  </svg>\n",
              "      </button>\n",
              "      \n",
              "  <style>\n",
              "    .colab-df-container {\n",
              "      display:flex;\n",
              "      flex-wrap:wrap;\n",
              "      gap: 12px;\n",
              "    }\n",
              "\n",
              "    .colab-df-convert {\n",
              "      background-color: #E8F0FE;\n",
              "      border: none;\n",
              "      border-radius: 50%;\n",
              "      cursor: pointer;\n",
              "      display: none;\n",
              "      fill: #1967D2;\n",
              "      height: 32px;\n",
              "      padding: 0 0 0 0;\n",
              "      width: 32px;\n",
              "    }\n",
              "\n",
              "    .colab-df-convert:hover {\n",
              "      background-color: #E2EBFA;\n",
              "      box-shadow: 0px 1px 2px rgba(60, 64, 67, 0.3), 0px 1px 3px 1px rgba(60, 64, 67, 0.15);\n",
              "      fill: #174EA6;\n",
              "    }\n",
              "\n",
              "    [theme=dark] .colab-df-convert {\n",
              "      background-color: #3B4455;\n",
              "      fill: #D2E3FC;\n",
              "    }\n",
              "\n",
              "    [theme=dark] .colab-df-convert:hover {\n",
              "      background-color: #434B5C;\n",
              "      box-shadow: 0px 1px 3px 1px rgba(0, 0, 0, 0.15);\n",
              "      filter: drop-shadow(0px 1px 2px rgba(0, 0, 0, 0.3));\n",
              "      fill: #FFFFFF;\n",
              "    }\n",
              "  </style>\n",
              "\n",
              "      <script>\n",
              "        const buttonEl =\n",
              "          document.querySelector('#df-90dd1902-111b-4551-8a5a-fc0fa631509c button.colab-df-convert');\n",
              "        buttonEl.style.display =\n",
              "          google.colab.kernel.accessAllowed ? 'block' : 'none';\n",
              "\n",
              "        async function convertToInteractive(key) {\n",
              "          const element = document.querySelector('#df-90dd1902-111b-4551-8a5a-fc0fa631509c');\n",
              "          const dataTable =\n",
              "            await google.colab.kernel.invokeFunction('convertToInteractive',\n",
              "                                                     [key], {});\n",
              "          if (!dataTable) return;\n",
              "\n",
              "          const docLinkHtml = 'Like what you see? Visit the ' +\n",
              "            '<a target=\"_blank\" href=https://colab.research.google.com/notebooks/data_table.ipynb>data table notebook</a>'\n",
              "            + ' to learn more about interactive tables.';\n",
              "          element.innerHTML = '';\n",
              "          dataTable['output_type'] = 'display_data';\n",
              "          await google.colab.output.renderOutput(dataTable, element);\n",
              "          const docLink = document.createElement('div');\n",
              "          docLink.innerHTML = docLinkHtml;\n",
              "          element.appendChild(docLink);\n",
              "        }\n",
              "      </script>\n",
              "    </div>\n",
              "  </div>\n",
              "  "
            ]
          },
          "metadata": {},
          "execution_count": 6
        }
      ]
    },
    {
      "cell_type": "code",
      "source": [
        "scaler = StandardScaler()\n",
        "data[['Area','Perimeter','Compactness','Kernel.Length','Kernel.Width','Asymmetry.Coeff','Kernel.Groove']] = scaler.fit_transform(data[['Area','Perimeter','Compactness','Kernel.Length','Kernel.Width','Asymmetry.Coeff','Kernel.Groove']])\n",
        "data.head()"
      ],
      "metadata": {
        "colab": {
          "base_uri": "https://localhost:8080/",
          "height": 206
        },
        "id": "wlImOKXYWy2K",
        "outputId": "3f7cd793-6873-487a-f882-0a254b564094"
      },
      "execution_count": null,
      "outputs": [
        {
          "output_type": "execute_result",
          "data": {
            "text/plain": [
              "       Area  Perimeter  Compactness  Kernel.Length  Kernel.Width  \\\n",
              "0  0.117164   0.186797     0.008144       0.270860      0.123135   \n",
              "1 -0.013302  -0.019760     0.442341      -0.201481      0.178783   \n",
              "2 -0.215868  -0.386972     1.469798      -0.795861      0.189383   \n",
              "3 -0.370368  -0.501725     1.061395      -0.721281      0.300679   \n",
              "4  0.419297   0.301550     1.401014       0.033559      0.785615   \n",
              "\n",
              "   Asymmetry.Coeff  Kernel.Groove  \n",
              "0        -1.007371      -0.408265  \n",
              "1        -1.827187      -0.945420  \n",
              "2        -0.681625      -1.211962  \n",
              "3        -0.981475      -1.252656  \n",
              "4        -1.597530      -0.499825  "
            ],
            "text/html": [
              "\n",
              "  <div id=\"df-5d4d6835-f50d-42d9-b6e5-363ecbfe7c54\">\n",
              "    <div class=\"colab-df-container\">\n",
              "      <div>\n",
              "<style scoped>\n",
              "    .dataframe tbody tr th:only-of-type {\n",
              "        vertical-align: middle;\n",
              "    }\n",
              "\n",
              "    .dataframe tbody tr th {\n",
              "        vertical-align: top;\n",
              "    }\n",
              "\n",
              "    .dataframe thead th {\n",
              "        text-align: right;\n",
              "    }\n",
              "</style>\n",
              "<table border=\"1\" class=\"dataframe\">\n",
              "  <thead>\n",
              "    <tr style=\"text-align: right;\">\n",
              "      <th></th>\n",
              "      <th>Area</th>\n",
              "      <th>Perimeter</th>\n",
              "      <th>Compactness</th>\n",
              "      <th>Kernel.Length</th>\n",
              "      <th>Kernel.Width</th>\n",
              "      <th>Asymmetry.Coeff</th>\n",
              "      <th>Kernel.Groove</th>\n",
              "    </tr>\n",
              "  </thead>\n",
              "  <tbody>\n",
              "    <tr>\n",
              "      <th>0</th>\n",
              "      <td>0.117164</td>\n",
              "      <td>0.186797</td>\n",
              "      <td>0.008144</td>\n",
              "      <td>0.270860</td>\n",
              "      <td>0.123135</td>\n",
              "      <td>-1.007371</td>\n",
              "      <td>-0.408265</td>\n",
              "    </tr>\n",
              "    <tr>\n",
              "      <th>1</th>\n",
              "      <td>-0.013302</td>\n",
              "      <td>-0.019760</td>\n",
              "      <td>0.442341</td>\n",
              "      <td>-0.201481</td>\n",
              "      <td>0.178783</td>\n",
              "      <td>-1.827187</td>\n",
              "      <td>-0.945420</td>\n",
              "    </tr>\n",
              "    <tr>\n",
              "      <th>2</th>\n",
              "      <td>-0.215868</td>\n",
              "      <td>-0.386972</td>\n",
              "      <td>1.469798</td>\n",
              "      <td>-0.795861</td>\n",
              "      <td>0.189383</td>\n",
              "      <td>-0.681625</td>\n",
              "      <td>-1.211962</td>\n",
              "    </tr>\n",
              "    <tr>\n",
              "      <th>3</th>\n",
              "      <td>-0.370368</td>\n",
              "      <td>-0.501725</td>\n",
              "      <td>1.061395</td>\n",
              "      <td>-0.721281</td>\n",
              "      <td>0.300679</td>\n",
              "      <td>-0.981475</td>\n",
              "      <td>-1.252656</td>\n",
              "    </tr>\n",
              "    <tr>\n",
              "      <th>4</th>\n",
              "      <td>0.419297</td>\n",
              "      <td>0.301550</td>\n",
              "      <td>1.401014</td>\n",
              "      <td>0.033559</td>\n",
              "      <td>0.785615</td>\n",
              "      <td>-1.597530</td>\n",
              "      <td>-0.499825</td>\n",
              "    </tr>\n",
              "  </tbody>\n",
              "</table>\n",
              "</div>\n",
              "      <button class=\"colab-df-convert\" onclick=\"convertToInteractive('df-5d4d6835-f50d-42d9-b6e5-363ecbfe7c54')\"\n",
              "              title=\"Convert this dataframe to an interactive table.\"\n",
              "              style=\"display:none;\">\n",
              "        \n",
              "  <svg xmlns=\"http://www.w3.org/2000/svg\" height=\"24px\"viewBox=\"0 0 24 24\"\n",
              "       width=\"24px\">\n",
              "    <path d=\"M0 0h24v24H0V0z\" fill=\"none\"/>\n",
              "    <path d=\"M18.56 5.44l.94 2.06.94-2.06 2.06-.94-2.06-.94-.94-2.06-.94 2.06-2.06.94zm-11 1L8.5 8.5l.94-2.06 2.06-.94-2.06-.94L8.5 2.5l-.94 2.06-2.06.94zm10 10l.94 2.06.94-2.06 2.06-.94-2.06-.94-.94-2.06-.94 2.06-2.06.94z\"/><path d=\"M17.41 7.96l-1.37-1.37c-.4-.4-.92-.59-1.43-.59-.52 0-1.04.2-1.43.59L10.3 9.45l-7.72 7.72c-.78.78-.78 2.05 0 2.83L4 21.41c.39.39.9.59 1.41.59.51 0 1.02-.2 1.41-.59l7.78-7.78 2.81-2.81c.8-.78.8-2.07 0-2.86zM5.41 20L4 18.59l7.72-7.72 1.47 1.35L5.41 20z\"/>\n",
              "  </svg>\n",
              "      </button>\n",
              "      \n",
              "  <style>\n",
              "    .colab-df-container {\n",
              "      display:flex;\n",
              "      flex-wrap:wrap;\n",
              "      gap: 12px;\n",
              "    }\n",
              "\n",
              "    .colab-df-convert {\n",
              "      background-color: #E8F0FE;\n",
              "      border: none;\n",
              "      border-radius: 50%;\n",
              "      cursor: pointer;\n",
              "      display: none;\n",
              "      fill: #1967D2;\n",
              "      height: 32px;\n",
              "      padding: 0 0 0 0;\n",
              "      width: 32px;\n",
              "    }\n",
              "\n",
              "    .colab-df-convert:hover {\n",
              "      background-color: #E2EBFA;\n",
              "      box-shadow: 0px 1px 2px rgba(60, 64, 67, 0.3), 0px 1px 3px 1px rgba(60, 64, 67, 0.15);\n",
              "      fill: #174EA6;\n",
              "    }\n",
              "\n",
              "    [theme=dark] .colab-df-convert {\n",
              "      background-color: #3B4455;\n",
              "      fill: #D2E3FC;\n",
              "    }\n",
              "\n",
              "    [theme=dark] .colab-df-convert:hover {\n",
              "      background-color: #434B5C;\n",
              "      box-shadow: 0px 1px 3px 1px rgba(0, 0, 0, 0.15);\n",
              "      filter: drop-shadow(0px 1px 2px rgba(0, 0, 0, 0.3));\n",
              "      fill: #FFFFFF;\n",
              "    }\n",
              "  </style>\n",
              "\n",
              "      <script>\n",
              "        const buttonEl =\n",
              "          document.querySelector('#df-5d4d6835-f50d-42d9-b6e5-363ecbfe7c54 button.colab-df-convert');\n",
              "        buttonEl.style.display =\n",
              "          google.colab.kernel.accessAllowed ? 'block' : 'none';\n",
              "\n",
              "        async function convertToInteractive(key) {\n",
              "          const element = document.querySelector('#df-5d4d6835-f50d-42d9-b6e5-363ecbfe7c54');\n",
              "          const dataTable =\n",
              "            await google.colab.kernel.invokeFunction('convertToInteractive',\n",
              "                                                     [key], {});\n",
              "          if (!dataTable) return;\n",
              "\n",
              "          const docLinkHtml = 'Like what you see? Visit the ' +\n",
              "            '<a target=\"_blank\" href=https://colab.research.google.com/notebooks/data_table.ipynb>data table notebook</a>'\n",
              "            + ' to learn more about interactive tables.';\n",
              "          element.innerHTML = '';\n",
              "          dataTable['output_type'] = 'display_data';\n",
              "          await google.colab.output.renderOutput(dataTable, element);\n",
              "          const docLink = document.createElement('div');\n",
              "          docLink.innerHTML = docLinkHtml;\n",
              "          element.appendChild(docLink);\n",
              "        }\n",
              "      </script>\n",
              "    </div>\n",
              "  </div>\n",
              "  "
            ]
          },
          "metadata": {},
          "execution_count": 7
        }
      ]
    },
    {
      "cell_type": "code",
      "source": [
        "data_final = pd.concat([data,d],axis = 1)\n",
        "data_final.head()"
      ],
      "metadata": {
        "colab": {
          "base_uri": "https://localhost:8080/",
          "height": 250
        },
        "id": "QoyO55OiY5zz",
        "outputId": "c2b732ec-6508-4cce-cc97-de8026ae8bd6"
      },
      "execution_count": null,
      "outputs": [
        {
          "output_type": "execute_result",
          "data": {
            "text/plain": [
              "       Area  Perimeter  Compactness  Kernel.Length  Kernel.Width  \\\n",
              "0  0.117164   0.186797     0.008144       0.270860      0.123135   \n",
              "1 -0.013302  -0.019760     0.442341      -0.201481      0.178783   \n",
              "2 -0.215868  -0.386972     1.469798      -0.795861      0.189383   \n",
              "3 -0.370368  -0.501725     1.061395      -0.721281      0.300679   \n",
              "4  0.419297   0.301550     1.401014       0.033559      0.785615   \n",
              "\n",
              "   Asymmetry.Coeff  Kernel.Groove    0    1    2  \n",
              "0        -1.007371      -0.408265  1.0  0.0  0.0  \n",
              "1        -1.827187      -0.945420  1.0  0.0  0.0  \n",
              "2        -0.681625      -1.211962  1.0  0.0  0.0  \n",
              "3        -0.981475      -1.252656  1.0  0.0  0.0  \n",
              "4        -1.597530      -0.499825  1.0  0.0  0.0  "
            ],
            "text/html": [
              "\n",
              "  <div id=\"df-ebfd44c6-b570-47fe-b1fd-bd3975d254b2\">\n",
              "    <div class=\"colab-df-container\">\n",
              "      <div>\n",
              "<style scoped>\n",
              "    .dataframe tbody tr th:only-of-type {\n",
              "        vertical-align: middle;\n",
              "    }\n",
              "\n",
              "    .dataframe tbody tr th {\n",
              "        vertical-align: top;\n",
              "    }\n",
              "\n",
              "    .dataframe thead th {\n",
              "        text-align: right;\n",
              "    }\n",
              "</style>\n",
              "<table border=\"1\" class=\"dataframe\">\n",
              "  <thead>\n",
              "    <tr style=\"text-align: right;\">\n",
              "      <th></th>\n",
              "      <th>Area</th>\n",
              "      <th>Perimeter</th>\n",
              "      <th>Compactness</th>\n",
              "      <th>Kernel.Length</th>\n",
              "      <th>Kernel.Width</th>\n",
              "      <th>Asymmetry.Coeff</th>\n",
              "      <th>Kernel.Groove</th>\n",
              "      <th>0</th>\n",
              "      <th>1</th>\n",
              "      <th>2</th>\n",
              "    </tr>\n",
              "  </thead>\n",
              "  <tbody>\n",
              "    <tr>\n",
              "      <th>0</th>\n",
              "      <td>0.117164</td>\n",
              "      <td>0.186797</td>\n",
              "      <td>0.008144</td>\n",
              "      <td>0.270860</td>\n",
              "      <td>0.123135</td>\n",
              "      <td>-1.007371</td>\n",
              "      <td>-0.408265</td>\n",
              "      <td>1.0</td>\n",
              "      <td>0.0</td>\n",
              "      <td>0.0</td>\n",
              "    </tr>\n",
              "    <tr>\n",
              "      <th>1</th>\n",
              "      <td>-0.013302</td>\n",
              "      <td>-0.019760</td>\n",
              "      <td>0.442341</td>\n",
              "      <td>-0.201481</td>\n",
              "      <td>0.178783</td>\n",
              "      <td>-1.827187</td>\n",
              "      <td>-0.945420</td>\n",
              "      <td>1.0</td>\n",
              "      <td>0.0</td>\n",
              "      <td>0.0</td>\n",
              "    </tr>\n",
              "    <tr>\n",
              "      <th>2</th>\n",
              "      <td>-0.215868</td>\n",
              "      <td>-0.386972</td>\n",
              "      <td>1.469798</td>\n",
              "      <td>-0.795861</td>\n",
              "      <td>0.189383</td>\n",
              "      <td>-0.681625</td>\n",
              "      <td>-1.211962</td>\n",
              "      <td>1.0</td>\n",
              "      <td>0.0</td>\n",
              "      <td>0.0</td>\n",
              "    </tr>\n",
              "    <tr>\n",
              "      <th>3</th>\n",
              "      <td>-0.370368</td>\n",
              "      <td>-0.501725</td>\n",
              "      <td>1.061395</td>\n",
              "      <td>-0.721281</td>\n",
              "      <td>0.300679</td>\n",
              "      <td>-0.981475</td>\n",
              "      <td>-1.252656</td>\n",
              "      <td>1.0</td>\n",
              "      <td>0.0</td>\n",
              "      <td>0.0</td>\n",
              "    </tr>\n",
              "    <tr>\n",
              "      <th>4</th>\n",
              "      <td>0.419297</td>\n",
              "      <td>0.301550</td>\n",
              "      <td>1.401014</td>\n",
              "      <td>0.033559</td>\n",
              "      <td>0.785615</td>\n",
              "      <td>-1.597530</td>\n",
              "      <td>-0.499825</td>\n",
              "      <td>1.0</td>\n",
              "      <td>0.0</td>\n",
              "      <td>0.0</td>\n",
              "    </tr>\n",
              "  </tbody>\n",
              "</table>\n",
              "</div>\n",
              "      <button class=\"colab-df-convert\" onclick=\"convertToInteractive('df-ebfd44c6-b570-47fe-b1fd-bd3975d254b2')\"\n",
              "              title=\"Convert this dataframe to an interactive table.\"\n",
              "              style=\"display:none;\">\n",
              "        \n",
              "  <svg xmlns=\"http://www.w3.org/2000/svg\" height=\"24px\"viewBox=\"0 0 24 24\"\n",
              "       width=\"24px\">\n",
              "    <path d=\"M0 0h24v24H0V0z\" fill=\"none\"/>\n",
              "    <path d=\"M18.56 5.44l.94 2.06.94-2.06 2.06-.94-2.06-.94-.94-2.06-.94 2.06-2.06.94zm-11 1L8.5 8.5l.94-2.06 2.06-.94-2.06-.94L8.5 2.5l-.94 2.06-2.06.94zm10 10l.94 2.06.94-2.06 2.06-.94-2.06-.94-.94-2.06-.94 2.06-2.06.94z\"/><path d=\"M17.41 7.96l-1.37-1.37c-.4-.4-.92-.59-1.43-.59-.52 0-1.04.2-1.43.59L10.3 9.45l-7.72 7.72c-.78.78-.78 2.05 0 2.83L4 21.41c.39.39.9.59 1.41.59.51 0 1.02-.2 1.41-.59l7.78-7.78 2.81-2.81c.8-.78.8-2.07 0-2.86zM5.41 20L4 18.59l7.72-7.72 1.47 1.35L5.41 20z\"/>\n",
              "  </svg>\n",
              "      </button>\n",
              "      \n",
              "  <style>\n",
              "    .colab-df-container {\n",
              "      display:flex;\n",
              "      flex-wrap:wrap;\n",
              "      gap: 12px;\n",
              "    }\n",
              "\n",
              "    .colab-df-convert {\n",
              "      background-color: #E8F0FE;\n",
              "      border: none;\n",
              "      border-radius: 50%;\n",
              "      cursor: pointer;\n",
              "      display: none;\n",
              "      fill: #1967D2;\n",
              "      height: 32px;\n",
              "      padding: 0 0 0 0;\n",
              "      width: 32px;\n",
              "    }\n",
              "\n",
              "    .colab-df-convert:hover {\n",
              "      background-color: #E2EBFA;\n",
              "      box-shadow: 0px 1px 2px rgba(60, 64, 67, 0.3), 0px 1px 3px 1px rgba(60, 64, 67, 0.15);\n",
              "      fill: #174EA6;\n",
              "    }\n",
              "\n",
              "    [theme=dark] .colab-df-convert {\n",
              "      background-color: #3B4455;\n",
              "      fill: #D2E3FC;\n",
              "    }\n",
              "\n",
              "    [theme=dark] .colab-df-convert:hover {\n",
              "      background-color: #434B5C;\n",
              "      box-shadow: 0px 1px 3px 1px rgba(0, 0, 0, 0.15);\n",
              "      filter: drop-shadow(0px 1px 2px rgba(0, 0, 0, 0.3));\n",
              "      fill: #FFFFFF;\n",
              "    }\n",
              "  </style>\n",
              "\n",
              "      <script>\n",
              "        const buttonEl =\n",
              "          document.querySelector('#df-ebfd44c6-b570-47fe-b1fd-bd3975d254b2 button.colab-df-convert');\n",
              "        buttonEl.style.display =\n",
              "          google.colab.kernel.accessAllowed ? 'block' : 'none';\n",
              "\n",
              "        async function convertToInteractive(key) {\n",
              "          const element = document.querySelector('#df-ebfd44c6-b570-47fe-b1fd-bd3975d254b2');\n",
              "          const dataTable =\n",
              "            await google.colab.kernel.invokeFunction('convertToInteractive',\n",
              "                                                     [key], {});\n",
              "          if (!dataTable) return;\n",
              "\n",
              "          const docLinkHtml = 'Like what you see? Visit the ' +\n",
              "            '<a target=\"_blank\" href=https://colab.research.google.com/notebooks/data_table.ipynb>data table notebook</a>'\n",
              "            + ' to learn more about interactive tables.';\n",
              "          element.innerHTML = '';\n",
              "          dataTable['output_type'] = 'display_data';\n",
              "          await google.colab.output.renderOutput(dataTable, element);\n",
              "          const docLink = document.createElement('div');\n",
              "          docLink.innerHTML = docLinkHtml;\n",
              "          element.appendChild(docLink);\n",
              "        }\n",
              "      </script>\n",
              "    </div>\n",
              "  </div>\n",
              "  "
            ]
          },
          "metadata": {},
          "execution_count": 8
        }
      ]
    },
    {
      "cell_type": "code",
      "source": [
        "data.head"
      ],
      "metadata": {
        "colab": {
          "base_uri": "https://localhost:8080/"
        },
        "id": "JFuAdGglZVGp",
        "outputId": "55fb6556-10c8-4eac-ecfa-3d7b2a357554"
      },
      "execution_count": null,
      "outputs": [
        {
          "output_type": "execute_result",
          "data": {
            "text/plain": [
              "<bound method NDFrame.head of          Area  Perimeter  Compactness  Kernel.Length  Kernel.Width  \\\n",
              "0    0.117164   0.186797     0.008144       0.270860      0.123135   \n",
              "1   -0.013302  -0.019760     0.442341      -0.201481      0.178783   \n",
              "2   -0.215868  -0.386972     1.469798      -0.795861      0.189383   \n",
              "3   -0.370368  -0.501725     1.061395      -0.721281      0.300679   \n",
              "4    0.419297   0.301550     1.401014       0.033559      0.785615   \n",
              "..        ...        ...          ...            ...           ...   \n",
              "194 -0.936866  -1.067843     0.321970      -1.143902     -0.753989   \n",
              "195 -1.266465  -1.312651    -0.847353      -1.137122     -1.246874   \n",
              "196 -0.590100  -0.715932     0.751868      -0.920162     -0.088859   \n",
              "197 -1.057032  -1.060193    -0.804363      -1.058022     -1.138227   \n",
              "198 -0.899099  -0.960740    -0.103629      -0.904341     -0.772538   \n",
              "\n",
              "     Asymmetry.Coeff  Kernel.Groove  \n",
              "0          -1.007371      -0.408265  \n",
              "1          -1.827187      -0.945420  \n",
              "2          -0.681625      -1.211962  \n",
              "3          -0.981475      -1.252656  \n",
              "4          -1.597530      -0.499825  \n",
              "..               ...            ...  \n",
              "194        -0.046488      -1.120402  \n",
              "195         0.426457      -0.849790  \n",
              "196         3.145549      -0.741952  \n",
              "197        -0.068977      -0.766368  \n",
              "198         1.320554      -0.727709  \n",
              "\n",
              "[199 rows x 7 columns]>"
            ]
          },
          "metadata": {},
          "execution_count": 9
        }
      ]
    },
    {
      "cell_type": "code",
      "source": [
        "from sklearn.model_selection import train_test_split\n",
        "xtrain, xtest, ytrain, ytest = train_test_split(data, d, test_size=0.2, random_state=np.random.seed(10))"
      ],
      "metadata": {
        "id": "lZx_PRVTY-gs"
      },
      "execution_count": null,
      "outputs": []
    },
    {
      "cell_type": "code",
      "source": [
        "model1 = tf.keras.Sequential()\n",
        "model1.add(tf.keras.layers.Dense(256,activation='relu',input_shape=(7,)))\n",
        "model1.add(tf.keras.layers.Dense(32,activation='relu'))\n",
        "model1.add(tf.keras.layers.Dense(3,activation='softmax'))\n",
        "model1.summary()"
      ],
      "metadata": {
        "colab": {
          "base_uri": "https://localhost:8080/"
        },
        "id": "0_WPJJvBZf5K",
        "outputId": "2511f31e-cda0-41b5-948d-e429b15e2ea9"
      },
      "execution_count": null,
      "outputs": [
        {
          "output_type": "stream",
          "name": "stdout",
          "text": [
            "Model: \"sequential\"\n",
            "_________________________________________________________________\n",
            " Layer (type)                Output Shape              Param #   \n",
            "=================================================================\n",
            " dense (Dense)               (None, 256)               2048      \n",
            "                                                                 \n",
            " dense_1 (Dense)             (None, 32)                8224      \n",
            "                                                                 \n",
            " dense_2 (Dense)             (None, 3)                 99        \n",
            "                                                                 \n",
            "=================================================================\n",
            "Total params: 10,371\n",
            "Trainable params: 10,371\n",
            "Non-trainable params: 0\n",
            "_________________________________________________________________\n"
          ]
        }
      ]
    },
    {
      "cell_type": "markdown",
      "source": [
        "#SGD Optimizer"
      ],
      "metadata": {
        "id": "1ROjGzJtd5zn"
      }
    },
    {
      "cell_type": "markdown",
      "source": [
        "##Learning Rate  = 0.1"
      ],
      "metadata": {
        "id": "qMNMdrtud9Qu"
      }
    },
    {
      "cell_type": "code",
      "source": [
        "model1.compile(loss='binary_crossentropy', optimizer=tf.keras.optimizers.SGD(learning_rate=0.1), metrics=['accuracy'])"
      ],
      "metadata": {
        "id": "e_r5ZrFEcwCb"
      },
      "execution_count": null,
      "outputs": []
    },
    {
      "cell_type": "code",
      "source": [
        "model1.fit(xtrain, ytrain, epochs=25, validation_split=0.3)"
      ],
      "metadata": {
        "colab": {
          "base_uri": "https://localhost:8080/"
        },
        "id": "B8Mmr9zKc9Mi",
        "outputId": "a59eeca1-b71e-437f-f7ff-de50dd69b74a"
      },
      "execution_count": null,
      "outputs": [
        {
          "output_type": "stream",
          "name": "stdout",
          "text": [
            "Epoch 1/25\n",
            "4/4 [==============================] - 1s 67ms/step - loss: 0.6776 - accuracy: 0.6126 - val_loss: 0.6256 - val_accuracy: 0.7500\n",
            "Epoch 2/25\n",
            "4/4 [==============================] - 0s 10ms/step - loss: 0.6084 - accuracy: 0.8198 - val_loss: 0.5756 - val_accuracy: 0.7500\n",
            "Epoch 3/25\n",
            "4/4 [==============================] - 0s 11ms/step - loss: 0.5599 - accuracy: 0.8198 - val_loss: 0.5361 - val_accuracy: 0.8333\n",
            "Epoch 4/25\n",
            "4/4 [==============================] - 0s 17ms/step - loss: 0.5205 - accuracy: 0.8468 - val_loss: 0.5000 - val_accuracy: 0.8542\n",
            "Epoch 5/25\n",
            "4/4 [==============================] - 0s 10ms/step - loss: 0.4842 - accuracy: 0.8649 - val_loss: 0.4635 - val_accuracy: 0.8750\n",
            "Epoch 6/25\n",
            "4/4 [==============================] - 0s 11ms/step - loss: 0.4488 - accuracy: 0.8739 - val_loss: 0.4290 - val_accuracy: 0.8542\n",
            "Epoch 7/25\n",
            "4/4 [==============================] - 0s 10ms/step - loss: 0.4157 - accuracy: 0.8739 - val_loss: 0.3985 - val_accuracy: 0.8750\n",
            "Epoch 8/25\n",
            "4/4 [==============================] - 0s 11ms/step - loss: 0.3873 - accuracy: 0.8829 - val_loss: 0.3713 - val_accuracy: 0.8750\n",
            "Epoch 9/25\n",
            "4/4 [==============================] - 0s 11ms/step - loss: 0.3622 - accuracy: 0.8829 - val_loss: 0.3474 - val_accuracy: 0.8750\n",
            "Epoch 10/25\n",
            "4/4 [==============================] - 0s 10ms/step - loss: 0.3397 - accuracy: 0.8829 - val_loss: 0.3255 - val_accuracy: 0.8750\n",
            "Epoch 11/25\n",
            "4/4 [==============================] - 0s 10ms/step - loss: 0.3199 - accuracy: 0.8829 - val_loss: 0.3090 - val_accuracy: 0.8750\n",
            "Epoch 12/25\n",
            "4/4 [==============================] - 0s 14ms/step - loss: 0.3027 - accuracy: 0.8829 - val_loss: 0.2954 - val_accuracy: 0.8750\n",
            "Epoch 13/25\n",
            "4/4 [==============================] - 0s 10ms/step - loss: 0.2877 - accuracy: 0.8829 - val_loss: 0.2799 - val_accuracy: 0.8750\n",
            "Epoch 14/25\n",
            "4/4 [==============================] - 0s 12ms/step - loss: 0.2739 - accuracy: 0.8829 - val_loss: 0.2667 - val_accuracy: 0.8750\n",
            "Epoch 15/25\n",
            "4/4 [==============================] - 0s 14ms/step - loss: 0.2618 - accuracy: 0.8829 - val_loss: 0.2544 - val_accuracy: 0.8750\n",
            "Epoch 16/25\n",
            "4/4 [==============================] - 0s 11ms/step - loss: 0.2507 - accuracy: 0.8829 - val_loss: 0.2433 - val_accuracy: 0.8750\n",
            "Epoch 17/25\n",
            "4/4 [==============================] - 0s 13ms/step - loss: 0.2409 - accuracy: 0.8829 - val_loss: 0.2306 - val_accuracy: 0.8750\n",
            "Epoch 18/25\n",
            "4/4 [==============================] - 0s 12ms/step - loss: 0.2315 - accuracy: 0.8919 - val_loss: 0.2211 - val_accuracy: 0.8750\n",
            "Epoch 19/25\n",
            "4/4 [==============================] - 0s 11ms/step - loss: 0.2233 - accuracy: 0.8919 - val_loss: 0.2126 - val_accuracy: 0.8958\n",
            "Epoch 20/25\n",
            "4/4 [==============================] - 0s 13ms/step - loss: 0.2160 - accuracy: 0.8919 - val_loss: 0.2068 - val_accuracy: 0.8958\n",
            "Epoch 21/25\n",
            "4/4 [==============================] - 0s 10ms/step - loss: 0.2101 - accuracy: 0.9009 - val_loss: 0.2011 - val_accuracy: 0.8958\n",
            "Epoch 22/25\n",
            "4/4 [==============================] - 0s 11ms/step - loss: 0.2037 - accuracy: 0.8919 - val_loss: 0.1917 - val_accuracy: 0.8958\n",
            "Epoch 23/25\n",
            "4/4 [==============================] - 0s 10ms/step - loss: 0.1977 - accuracy: 0.9009 - val_loss: 0.1880 - val_accuracy: 0.8958\n",
            "Epoch 24/25\n",
            "4/4 [==============================] - 0s 11ms/step - loss: 0.1930 - accuracy: 0.9009 - val_loss: 0.1828 - val_accuracy: 0.8958\n",
            "Epoch 25/25\n",
            "4/4 [==============================] - 0s 11ms/step - loss: 0.1882 - accuracy: 0.9009 - val_loss: 0.1798 - val_accuracy: 0.9167\n"
          ]
        },
        {
          "output_type": "execute_result",
          "data": {
            "text/plain": [
              "<keras.callbacks.History at 0x7f2f60a7abd0>"
            ]
          },
          "metadata": {},
          "execution_count": 13
        }
      ]
    },
    {
      "cell_type": "markdown",
      "source": [
        "##Learning Rate  = 0.01"
      ],
      "metadata": {
        "id": "0uz-D1l8eCOP"
      }
    },
    {
      "cell_type": "code",
      "source": [
        "model2 = tf.keras.Sequential()\n",
        "model2.add(tf.keras.layers.Dense(256,activation='relu',input_shape=(7,)))\n",
        "model2.add(tf.keras.layers.Dense(32,activation='relu'))\n",
        "model2.add(tf.keras.layers.Dense(3,activation='softmax'))\n",
        "#model.summary()\n",
        "model2.compile(loss='binary_crossentropy', optimizer=tf.keras.optimizers.SGD(learning_rate=0.01), metrics=['accuracy'])\n",
        "model2.fit(xtrain, ytrain, epochs=25, validation_split=0.3)"
      ],
      "metadata": {
        "colab": {
          "base_uri": "https://localhost:8080/"
        },
        "id": "lIi5usxqeDoO",
        "outputId": "a79f42c1-1ab8-4240-d535-54bf020068b2"
      },
      "execution_count": null,
      "outputs": [
        {
          "output_type": "stream",
          "name": "stdout",
          "text": [
            "Epoch 1/25\n",
            "4/4 [==============================] - 1s 58ms/step - loss: 0.6953 - accuracy: 0.3333 - val_loss: 0.6968 - val_accuracy: 0.2500\n",
            "Epoch 2/25\n",
            "4/4 [==============================] - 0s 11ms/step - loss: 0.6855 - accuracy: 0.4505 - val_loss: 0.6870 - val_accuracy: 0.3750\n",
            "Epoch 3/25\n",
            "4/4 [==============================] - 0s 10ms/step - loss: 0.6772 - accuracy: 0.6036 - val_loss: 0.6779 - val_accuracy: 0.4375\n",
            "Epoch 4/25\n",
            "4/4 [==============================] - 0s 10ms/step - loss: 0.6695 - accuracy: 0.6306 - val_loss: 0.6694 - val_accuracy: 0.5000\n",
            "Epoch 5/25\n",
            "4/4 [==============================] - 0s 11ms/step - loss: 0.6621 - accuracy: 0.6757 - val_loss: 0.6614 - val_accuracy: 0.6250\n",
            "Epoch 6/25\n",
            "4/4 [==============================] - 0s 11ms/step - loss: 0.6552 - accuracy: 0.7117 - val_loss: 0.6537 - val_accuracy: 0.6458\n",
            "Epoch 7/25\n",
            "4/4 [==============================] - 0s 10ms/step - loss: 0.6484 - accuracy: 0.7207 - val_loss: 0.6464 - val_accuracy: 0.6458\n",
            "Epoch 8/25\n",
            "4/4 [==============================] - 0s 16ms/step - loss: 0.6420 - accuracy: 0.7387 - val_loss: 0.6395 - val_accuracy: 0.6458\n",
            "Epoch 9/25\n",
            "4/4 [==============================] - 0s 11ms/step - loss: 0.6360 - accuracy: 0.7477 - val_loss: 0.6329 - val_accuracy: 0.6667\n",
            "Epoch 10/25\n",
            "4/4 [==============================] - 0s 10ms/step - loss: 0.6302 - accuracy: 0.7477 - val_loss: 0.6268 - val_accuracy: 0.6667\n",
            "Epoch 11/25\n",
            "4/4 [==============================] - 0s 13ms/step - loss: 0.6246 - accuracy: 0.7568 - val_loss: 0.6204 - val_accuracy: 0.6875\n",
            "Epoch 12/25\n",
            "4/4 [==============================] - 0s 11ms/step - loss: 0.6191 - accuracy: 0.7658 - val_loss: 0.6146 - val_accuracy: 0.7292\n",
            "Epoch 13/25\n",
            "4/4 [==============================] - 0s 10ms/step - loss: 0.6137 - accuracy: 0.7658 - val_loss: 0.6086 - val_accuracy: 0.7292\n",
            "Epoch 14/25\n",
            "4/4 [==============================] - 0s 11ms/step - loss: 0.6083 - accuracy: 0.7838 - val_loss: 0.6030 - val_accuracy: 0.7292\n",
            "Epoch 15/25\n",
            "4/4 [==============================] - 0s 11ms/step - loss: 0.6032 - accuracy: 0.7838 - val_loss: 0.5974 - val_accuracy: 0.7708\n",
            "Epoch 16/25\n",
            "4/4 [==============================] - 0s 10ms/step - loss: 0.5980 - accuracy: 0.7838 - val_loss: 0.5918 - val_accuracy: 0.7708\n",
            "Epoch 17/25\n",
            "4/4 [==============================] - 0s 13ms/step - loss: 0.5930 - accuracy: 0.7838 - val_loss: 0.5865 - val_accuracy: 0.7708\n",
            "Epoch 18/25\n",
            "4/4 [==============================] - 0s 10ms/step - loss: 0.5880 - accuracy: 0.7928 - val_loss: 0.5811 - val_accuracy: 0.7917\n",
            "Epoch 19/25\n",
            "4/4 [==============================] - 0s 10ms/step - loss: 0.5830 - accuracy: 0.7928 - val_loss: 0.5759 - val_accuracy: 0.8125\n",
            "Epoch 20/25\n",
            "4/4 [==============================] - 0s 12ms/step - loss: 0.5781 - accuracy: 0.8018 - val_loss: 0.5708 - val_accuracy: 0.8542\n",
            "Epoch 21/25\n",
            "4/4 [==============================] - 0s 11ms/step - loss: 0.5733 - accuracy: 0.8018 - val_loss: 0.5657 - val_accuracy: 0.8542\n",
            "Epoch 22/25\n",
            "4/4 [==============================] - 0s 14ms/step - loss: 0.5685 - accuracy: 0.8108 - val_loss: 0.5603 - val_accuracy: 0.8542\n",
            "Epoch 23/25\n",
            "4/4 [==============================] - 0s 11ms/step - loss: 0.5635 - accuracy: 0.8108 - val_loss: 0.5549 - val_accuracy: 0.8542\n",
            "Epoch 24/25\n",
            "4/4 [==============================] - 0s 11ms/step - loss: 0.5586 - accuracy: 0.8108 - val_loss: 0.5494 - val_accuracy: 0.8542\n",
            "Epoch 25/25\n",
            "4/4 [==============================] - 0s 11ms/step - loss: 0.5536 - accuracy: 0.8198 - val_loss: 0.5439 - val_accuracy: 0.8542\n"
          ]
        },
        {
          "output_type": "execute_result",
          "data": {
            "text/plain": [
              "<keras.callbacks.History at 0x7f2f5f0c18d0>"
            ]
          },
          "metadata": {},
          "execution_count": 14
        }
      ]
    },
    {
      "cell_type": "markdown",
      "source": [
        "##Learning Rate = 0.001"
      ],
      "metadata": {
        "id": "zAl6lnPOeeLP"
      }
    },
    {
      "cell_type": "code",
      "source": [
        "model3 = tf.keras.Sequential()\n",
        "model3.add(tf.keras.layers.Dense(256,activation='relu',input_shape=(7,)))\n",
        "model3.add(tf.keras.layers.Dense(32,activation='relu'))\n",
        "model3.add(tf.keras.layers.Dense(3,activation='softmax'))\n",
        "#model.summary()\n",
        "model3.compile(loss='binary_crossentropy', optimizer=tf.keras.optimizers.SGD(learning_rate=0.001), metrics=['accuracy'])\n",
        "model3.fit(xtrain, ytrain, epochs=25, validation_split=0.3)"
      ],
      "metadata": {
        "colab": {
          "base_uri": "https://localhost:8080/"
        },
        "id": "rWgLVM0DePHq",
        "outputId": "a1a676a9-2845-4a6c-90e5-c98d17072554"
      },
      "execution_count": null,
      "outputs": [
        {
          "output_type": "stream",
          "name": "stdout",
          "text": [
            "Epoch 1/25\n",
            "4/4 [==============================] - 1s 56ms/step - loss: 0.7401 - accuracy: 0.3514 - val_loss: 0.7387 - val_accuracy: 0.3542\n",
            "Epoch 2/25\n",
            "4/4 [==============================] - 0s 10ms/step - loss: 0.7393 - accuracy: 0.3604 - val_loss: 0.7378 - val_accuracy: 0.3542\n",
            "Epoch 3/25\n",
            "4/4 [==============================] - 0s 10ms/step - loss: 0.7385 - accuracy: 0.3604 - val_loss: 0.7370 - val_accuracy: 0.3542\n",
            "Epoch 4/25\n",
            "4/4 [==============================] - 0s 11ms/step - loss: 0.7377 - accuracy: 0.3604 - val_loss: 0.7361 - val_accuracy: 0.3542\n",
            "Epoch 5/25\n",
            "4/4 [==============================] - 0s 20ms/step - loss: 0.7369 - accuracy: 0.3604 - val_loss: 0.7352 - val_accuracy: 0.3542\n",
            "Epoch 6/25\n",
            "4/4 [==============================] - 0s 17ms/step - loss: 0.7361 - accuracy: 0.3604 - val_loss: 0.7344 - val_accuracy: 0.3542\n",
            "Epoch 7/25\n",
            "4/4 [==============================] - 0s 17ms/step - loss: 0.7354 - accuracy: 0.3604 - val_loss: 0.7336 - val_accuracy: 0.3542\n",
            "Epoch 8/25\n",
            "4/4 [==============================] - 0s 14ms/step - loss: 0.7346 - accuracy: 0.3604 - val_loss: 0.7328 - val_accuracy: 0.3542\n",
            "Epoch 9/25\n",
            "4/4 [==============================] - 0s 12ms/step - loss: 0.7338 - accuracy: 0.3604 - val_loss: 0.7320 - val_accuracy: 0.3542\n",
            "Epoch 10/25\n",
            "4/4 [==============================] - 0s 17ms/step - loss: 0.7331 - accuracy: 0.3604 - val_loss: 0.7312 - val_accuracy: 0.3542\n",
            "Epoch 11/25\n",
            "4/4 [==============================] - 0s 11ms/step - loss: 0.7323 - accuracy: 0.3604 - val_loss: 0.7304 - val_accuracy: 0.3542\n",
            "Epoch 12/25\n",
            "4/4 [==============================] - 0s 12ms/step - loss: 0.7315 - accuracy: 0.3604 - val_loss: 0.7295 - val_accuracy: 0.3542\n",
            "Epoch 13/25\n",
            "4/4 [==============================] - 0s 13ms/step - loss: 0.7308 - accuracy: 0.3604 - val_loss: 0.7288 - val_accuracy: 0.3542\n",
            "Epoch 14/25\n",
            "4/4 [==============================] - 0s 12ms/step - loss: 0.7300 - accuracy: 0.3694 - val_loss: 0.7280 - val_accuracy: 0.3542\n",
            "Epoch 15/25\n",
            "4/4 [==============================] - 0s 12ms/step - loss: 0.7293 - accuracy: 0.3694 - val_loss: 0.7272 - val_accuracy: 0.3542\n",
            "Epoch 16/25\n",
            "4/4 [==============================] - 0s 12ms/step - loss: 0.7286 - accuracy: 0.3694 - val_loss: 0.7264 - val_accuracy: 0.3542\n",
            "Epoch 17/25\n",
            "4/4 [==============================] - 0s 12ms/step - loss: 0.7278 - accuracy: 0.3784 - val_loss: 0.7256 - val_accuracy: 0.3542\n",
            "Epoch 18/25\n",
            "4/4 [==============================] - 0s 12ms/step - loss: 0.7271 - accuracy: 0.3784 - val_loss: 0.7247 - val_accuracy: 0.3542\n",
            "Epoch 19/25\n",
            "4/4 [==============================] - 0s 15ms/step - loss: 0.7263 - accuracy: 0.3784 - val_loss: 0.7239 - val_accuracy: 0.3542\n",
            "Epoch 20/25\n",
            "4/4 [==============================] - 0s 12ms/step - loss: 0.7255 - accuracy: 0.3784 - val_loss: 0.7232 - val_accuracy: 0.3542\n",
            "Epoch 21/25\n",
            "4/4 [==============================] - 0s 14ms/step - loss: 0.7248 - accuracy: 0.3784 - val_loss: 0.7224 - val_accuracy: 0.3542\n",
            "Epoch 22/25\n",
            "4/4 [==============================] - 0s 12ms/step - loss: 0.7241 - accuracy: 0.3784 - val_loss: 0.7216 - val_accuracy: 0.3542\n",
            "Epoch 23/25\n",
            "4/4 [==============================] - 0s 11ms/step - loss: 0.7233 - accuracy: 0.3784 - val_loss: 0.7208 - val_accuracy: 0.3333\n",
            "Epoch 24/25\n",
            "4/4 [==============================] - 0s 14ms/step - loss: 0.7226 - accuracy: 0.3784 - val_loss: 0.7201 - val_accuracy: 0.3333\n",
            "Epoch 25/25\n",
            "4/4 [==============================] - 0s 11ms/step - loss: 0.7219 - accuracy: 0.3784 - val_loss: 0.7193 - val_accuracy: 0.3333\n"
          ]
        },
        {
          "output_type": "execute_result",
          "data": {
            "text/plain": [
              "<keras.callbacks.History at 0x7f2f60733490>"
            ]
          },
          "metadata": {},
          "execution_count": 15
        }
      ]
    },
    {
      "cell_type": "markdown",
      "source": [
        "##Learning Rate = 0.0001"
      ],
      "metadata": {
        "id": "QFKIFrIyfSg3"
      }
    },
    {
      "cell_type": "code",
      "source": [
        "model4 = tf.keras.Sequential()\n",
        "model4.add(tf.keras.layers.Dense(256,activation='relu',input_shape=(7,)))\n",
        "model4.add(tf.keras.layers.Dense(32,activation='relu'))\n",
        "model4.add(tf.keras.layers.Dense(3,activation='softmax'))\n",
        "#model.summary()\n",
        "model4.compile(loss='binary_crossentropy', optimizer=tf.keras.optimizers.SGD(learning_rate=0.0001), metrics=['accuracy'])\n",
        "model4.fit(xtrain, ytrain, epochs=25, validation_split=0.3)"
      ],
      "metadata": {
        "id": "u6qxfiu1fWlB",
        "outputId": "f9cdd9ef-008f-4d72-9483-af29e4065c91",
        "colab": {
          "base_uri": "https://localhost:8080/"
        }
      },
      "execution_count": null,
      "outputs": [
        {
          "output_type": "stream",
          "name": "stdout",
          "text": [
            "Epoch 1/25\n",
            "4/4 [==============================] - 1s 56ms/step - loss: 0.6722 - accuracy: 0.6847 - val_loss: 0.6701 - val_accuracy: 0.6458\n",
            "Epoch 2/25\n",
            "4/4 [==============================] - 0s 10ms/step - loss: 0.6721 - accuracy: 0.6847 - val_loss: 0.6700 - val_accuracy: 0.6458\n",
            "Epoch 3/25\n",
            "4/4 [==============================] - 0s 10ms/step - loss: 0.6721 - accuracy: 0.6847 - val_loss: 0.6700 - val_accuracy: 0.6458\n",
            "Epoch 4/25\n",
            "4/4 [==============================] - 0s 19ms/step - loss: 0.6720 - accuracy: 0.6847 - val_loss: 0.6699 - val_accuracy: 0.6458\n",
            "Epoch 5/25\n",
            "4/4 [==============================] - 0s 15ms/step - loss: 0.6720 - accuracy: 0.6847 - val_loss: 0.6698 - val_accuracy: 0.6458\n",
            "Epoch 6/25\n",
            "4/4 [==============================] - 0s 12ms/step - loss: 0.6719 - accuracy: 0.6847 - val_loss: 0.6698 - val_accuracy: 0.6458\n",
            "Epoch 7/25\n",
            "4/4 [==============================] - 0s 12ms/step - loss: 0.6718 - accuracy: 0.6847 - val_loss: 0.6697 - val_accuracy: 0.6458\n",
            "Epoch 8/25\n",
            "4/4 [==============================] - 0s 13ms/step - loss: 0.6718 - accuracy: 0.6847 - val_loss: 0.6697 - val_accuracy: 0.6458\n",
            "Epoch 9/25\n",
            "4/4 [==============================] - 0s 11ms/step - loss: 0.6717 - accuracy: 0.6847 - val_loss: 0.6696 - val_accuracy: 0.6458\n",
            "Epoch 10/25\n",
            "4/4 [==============================] - 0s 11ms/step - loss: 0.6717 - accuracy: 0.6847 - val_loss: 0.6695 - val_accuracy: 0.6458\n",
            "Epoch 11/25\n",
            "4/4 [==============================] - 0s 13ms/step - loss: 0.6716 - accuracy: 0.6847 - val_loss: 0.6695 - val_accuracy: 0.6458\n",
            "Epoch 12/25\n",
            "4/4 [==============================] - 0s 13ms/step - loss: 0.6716 - accuracy: 0.6847 - val_loss: 0.6694 - val_accuracy: 0.6458\n",
            "Epoch 13/25\n",
            "4/4 [==============================] - 0s 14ms/step - loss: 0.6715 - accuracy: 0.6847 - val_loss: 0.6693 - val_accuracy: 0.6458\n",
            "Epoch 14/25\n",
            "4/4 [==============================] - 0s 11ms/step - loss: 0.6715 - accuracy: 0.6847 - val_loss: 0.6693 - val_accuracy: 0.6458\n",
            "Epoch 15/25\n",
            "4/4 [==============================] - 0s 12ms/step - loss: 0.6714 - accuracy: 0.6847 - val_loss: 0.6692 - val_accuracy: 0.6458\n",
            "Epoch 16/25\n",
            "4/4 [==============================] - 0s 12ms/step - loss: 0.6713 - accuracy: 0.6847 - val_loss: 0.6691 - val_accuracy: 0.6458\n",
            "Epoch 17/25\n",
            "4/4 [==============================] - 0s 11ms/step - loss: 0.6713 - accuracy: 0.6847 - val_loss: 0.6691 - val_accuracy: 0.6458\n",
            "Epoch 18/25\n",
            "4/4 [==============================] - 0s 11ms/step - loss: 0.6712 - accuracy: 0.6847 - val_loss: 0.6690 - val_accuracy: 0.6458\n",
            "Epoch 19/25\n",
            "4/4 [==============================] - 0s 11ms/step - loss: 0.6712 - accuracy: 0.6847 - val_loss: 0.6689 - val_accuracy: 0.6458\n",
            "Epoch 20/25\n",
            "4/4 [==============================] - 0s 11ms/step - loss: 0.6711 - accuracy: 0.6847 - val_loss: 0.6689 - val_accuracy: 0.6458\n",
            "Epoch 21/25\n",
            "4/4 [==============================] - 0s 12ms/step - loss: 0.6711 - accuracy: 0.6847 - val_loss: 0.6688 - val_accuracy: 0.6458\n",
            "Epoch 22/25\n",
            "4/4 [==============================] - 0s 12ms/step - loss: 0.6710 - accuracy: 0.6847 - val_loss: 0.6688 - val_accuracy: 0.6458\n",
            "Epoch 23/25\n",
            "4/4 [==============================] - 0s 11ms/step - loss: 0.6710 - accuracy: 0.6847 - val_loss: 0.6687 - val_accuracy: 0.6458\n",
            "Epoch 24/25\n",
            "4/4 [==============================] - 0s 16ms/step - loss: 0.6709 - accuracy: 0.6847 - val_loss: 0.6686 - val_accuracy: 0.6458\n",
            "Epoch 25/25\n",
            "4/4 [==============================] - 0s 13ms/step - loss: 0.6708 - accuracy: 0.6847 - val_loss: 0.6686 - val_accuracy: 0.6458\n"
          ]
        },
        {
          "output_type": "execute_result",
          "data": {
            "text/plain": [
              "<keras.callbacks.History at 0x7f2f60612e50>"
            ]
          },
          "metadata": {},
          "execution_count": 16
        }
      ]
    },
    {
      "cell_type": "markdown",
      "source": [
        "##Momentum=0"
      ],
      "metadata": {
        "id": "HxMz-HXl6Dj5"
      }
    },
    {
      "cell_type": "code",
      "source": [
        "model5 = tf.keras.Sequential()\n",
        "model5.add(tf.keras.layers.Dense(256,activation='relu',input_shape=(7,)))\n",
        "model5.add(tf.keras.layers.Dense(32,activation='relu'))\n",
        "model5.add(tf.keras.layers.Dense(3,activation='softmax'))\n",
        "#model.summary()\n",
        "model5.compile(loss='binary_crossentropy', optimizer=tf.keras.optimizers.SGD(learning_rate=0.1, momentum=0), metrics=['accuracy'])\n",
        "model5.fit(xtrain, ytrain, epochs=25, validation_split=0.3)"
      ],
      "metadata": {
        "colab": {
          "base_uri": "https://localhost:8080/"
        },
        "id": "lZN-Nr7Q0VFS",
        "outputId": "4e063d2b-4579-42b1-ccd9-3303ccf2883e"
      },
      "execution_count": null,
      "outputs": [
        {
          "output_type": "stream",
          "name": "stdout",
          "text": [
            "Epoch 1/25\n",
            "4/4 [==============================] - 1s 61ms/step - loss: 0.6873 - accuracy: 0.2883 - val_loss: 0.6059 - val_accuracy: 0.6250\n",
            "Epoch 2/25\n",
            "4/4 [==============================] - 0s 13ms/step - loss: 0.5845 - accuracy: 0.7117 - val_loss: 0.5319 - val_accuracy: 0.7083\n",
            "Epoch 3/25\n",
            "4/4 [==============================] - 0s 11ms/step - loss: 0.5212 - accuracy: 0.7658 - val_loss: 0.4770 - val_accuracy: 0.7083\n",
            "Epoch 4/25\n",
            "4/4 [==============================] - 0s 11ms/step - loss: 0.4702 - accuracy: 0.7748 - val_loss: 0.4360 - val_accuracy: 0.7083\n",
            "Epoch 5/25\n",
            "4/4 [==============================] - 0s 12ms/step - loss: 0.4296 - accuracy: 0.7838 - val_loss: 0.4017 - val_accuracy: 0.7500\n",
            "Epoch 6/25\n",
            "4/4 [==============================] - 0s 15ms/step - loss: 0.3951 - accuracy: 0.7928 - val_loss: 0.3743 - val_accuracy: 0.7708\n",
            "Epoch 7/25\n",
            "4/4 [==============================] - 0s 12ms/step - loss: 0.3674 - accuracy: 0.8288 - val_loss: 0.3508 - val_accuracy: 0.7917\n",
            "Epoch 8/25\n",
            "4/4 [==============================] - 0s 12ms/step - loss: 0.3434 - accuracy: 0.8198 - val_loss: 0.3320 - val_accuracy: 0.7917\n",
            "Epoch 9/25\n",
            "4/4 [==============================] - 0s 13ms/step - loss: 0.3237 - accuracy: 0.8378 - val_loss: 0.3151 - val_accuracy: 0.8125\n",
            "Epoch 10/25\n",
            "4/4 [==============================] - 0s 11ms/step - loss: 0.3068 - accuracy: 0.8468 - val_loss: 0.3004 - val_accuracy: 0.8333\n",
            "Epoch 11/25\n",
            "4/4 [==============================] - 0s 12ms/step - loss: 0.2923 - accuracy: 0.8468 - val_loss: 0.2873 - val_accuracy: 0.8542\n",
            "Epoch 12/25\n",
            "4/4 [==============================] - 0s 12ms/step - loss: 0.2797 - accuracy: 0.8649 - val_loss: 0.2768 - val_accuracy: 0.8542\n",
            "Epoch 13/25\n",
            "4/4 [==============================] - 0s 12ms/step - loss: 0.2686 - accuracy: 0.8739 - val_loss: 0.2636 - val_accuracy: 0.8750\n",
            "Epoch 14/25\n",
            "4/4 [==============================] - 0s 12ms/step - loss: 0.2574 - accuracy: 0.8739 - val_loss: 0.2530 - val_accuracy: 0.8750\n",
            "Epoch 15/25\n",
            "4/4 [==============================] - 0s 18ms/step - loss: 0.2477 - accuracy: 0.8739 - val_loss: 0.2448 - val_accuracy: 0.8750\n",
            "Epoch 16/25\n",
            "4/4 [==============================] - 0s 17ms/step - loss: 0.2393 - accuracy: 0.8829 - val_loss: 0.2339 - val_accuracy: 0.8958\n",
            "Epoch 17/25\n",
            "4/4 [==============================] - 0s 18ms/step - loss: 0.2307 - accuracy: 0.8829 - val_loss: 0.2241 - val_accuracy: 0.8958\n",
            "Epoch 18/25\n",
            "4/4 [==============================] - 0s 11ms/step - loss: 0.2232 - accuracy: 0.8739 - val_loss: 0.2166 - val_accuracy: 0.8958\n",
            "Epoch 19/25\n",
            "4/4 [==============================] - 0s 17ms/step - loss: 0.2161 - accuracy: 0.8829 - val_loss: 0.2096 - val_accuracy: 0.8958\n",
            "Epoch 20/25\n",
            "4/4 [==============================] - 0s 11ms/step - loss: 0.2100 - accuracy: 0.8739 - val_loss: 0.2022 - val_accuracy: 0.8958\n",
            "Epoch 21/25\n",
            "4/4 [==============================] - 0s 11ms/step - loss: 0.2034 - accuracy: 0.8829 - val_loss: 0.1948 - val_accuracy: 0.8958\n",
            "Epoch 22/25\n",
            "4/4 [==============================] - 0s 11ms/step - loss: 0.1978 - accuracy: 0.8829 - val_loss: 0.1894 - val_accuracy: 0.9167\n",
            "Epoch 23/25\n",
            "4/4 [==============================] - 0s 12ms/step - loss: 0.1944 - accuracy: 0.8829 - val_loss: 0.1848 - val_accuracy: 0.9167\n",
            "Epoch 24/25\n",
            "4/4 [==============================] - 0s 12ms/step - loss: 0.1885 - accuracy: 0.8829 - val_loss: 0.1781 - val_accuracy: 0.9167\n",
            "Epoch 25/25\n",
            "4/4 [==============================] - 0s 16ms/step - loss: 0.1843 - accuracy: 0.8829 - val_loss: 0.1747 - val_accuracy: 0.9167\n"
          ]
        },
        {
          "output_type": "execute_result",
          "data": {
            "text/plain": [
              "<keras.callbacks.History at 0x7f2f60542b90>"
            ]
          },
          "metadata": {},
          "execution_count": 17
        }
      ]
    },
    {
      "cell_type": "markdown",
      "source": [
        "##Momentum=0.5"
      ],
      "metadata": {
        "id": "PCqOq85j6LJN"
      }
    },
    {
      "cell_type": "code",
      "source": [
        "model6 = tf.keras.Sequential()\n",
        "model6.add(tf.keras.layers.Dense(256,activation='relu',input_shape=(7,)))\n",
        "model6.add(tf.keras.layers.Dense(32,activation='relu'))\n",
        "model6.add(tf.keras.layers.Dense(3,activation='softmax'))\n",
        "#model.summary()\n",
        "model6.compile(loss='binary_crossentropy', optimizer=tf.keras.optimizers.SGD(learning_rate=0.1, momentum=0.5), metrics=['accuracy'])\n",
        "model6.fit(xtrain, ytrain, epochs=25, validation_split=0.3)"
      ],
      "metadata": {
        "colab": {
          "base_uri": "https://localhost:8080/"
        },
        "id": "VUnD9Cju1Nbl",
        "outputId": "fa26061b-ded3-4d02-946b-089937be328f"
      },
      "execution_count": null,
      "outputs": [
        {
          "output_type": "stream",
          "name": "stdout",
          "text": [
            "Epoch 1/25\n",
            "4/4 [==============================] - 1s 65ms/step - loss: 0.6402 - accuracy: 0.7207 - val_loss: 0.5772 - val_accuracy: 0.8750\n",
            "Epoch 2/25\n",
            "4/4 [==============================] - 0s 11ms/step - loss: 0.5526 - accuracy: 0.8919 - val_loss: 0.4937 - val_accuracy: 0.8958\n",
            "Epoch 3/25\n",
            "4/4 [==============================] - 0s 16ms/step - loss: 0.4725 - accuracy: 0.8919 - val_loss: 0.4185 - val_accuracy: 0.8750\n",
            "Epoch 4/25\n",
            "4/4 [==============================] - 0s 13ms/step - loss: 0.3998 - accuracy: 0.8829 - val_loss: 0.3605 - val_accuracy: 0.8750\n",
            "Epoch 5/25\n",
            "4/4 [==============================] - 0s 15ms/step - loss: 0.3445 - accuracy: 0.8829 - val_loss: 0.3152 - val_accuracy: 0.8750\n",
            "Epoch 6/25\n",
            "4/4 [==============================] - 0s 16ms/step - loss: 0.3033 - accuracy: 0.8739 - val_loss: 0.2811 - val_accuracy: 0.8750\n",
            "Epoch 7/25\n",
            "4/4 [==============================] - 0s 11ms/step - loss: 0.2721 - accuracy: 0.8829 - val_loss: 0.2524 - val_accuracy: 0.8958\n",
            "Epoch 8/25\n",
            "4/4 [==============================] - 0s 17ms/step - loss: 0.2478 - accuracy: 0.8919 - val_loss: 0.2282 - val_accuracy: 0.9167\n",
            "Epoch 9/25\n",
            "4/4 [==============================] - 0s 11ms/step - loss: 0.2275 - accuracy: 0.8919 - val_loss: 0.2129 - val_accuracy: 0.9167\n",
            "Epoch 10/25\n",
            "4/4 [==============================] - 0s 10ms/step - loss: 0.2118 - accuracy: 0.9009 - val_loss: 0.1978 - val_accuracy: 0.9167\n",
            "Epoch 11/25\n",
            "4/4 [==============================] - 0s 11ms/step - loss: 0.1984 - accuracy: 0.9009 - val_loss: 0.1840 - val_accuracy: 0.9167\n",
            "Epoch 12/25\n",
            "4/4 [==============================] - 0s 11ms/step - loss: 0.1871 - accuracy: 0.9009 - val_loss: 0.1707 - val_accuracy: 0.9167\n",
            "Epoch 13/25\n",
            "4/4 [==============================] - 0s 11ms/step - loss: 0.1787 - accuracy: 0.9099 - val_loss: 0.1603 - val_accuracy: 0.9167\n",
            "Epoch 14/25\n",
            "4/4 [==============================] - 0s 11ms/step - loss: 0.1715 - accuracy: 0.9099 - val_loss: 0.1557 - val_accuracy: 0.9167\n",
            "Epoch 15/25\n",
            "4/4 [==============================] - 0s 17ms/step - loss: 0.1657 - accuracy: 0.9099 - val_loss: 0.1489 - val_accuracy: 0.9167\n",
            "Epoch 16/25\n",
            "4/4 [==============================] - 0s 10ms/step - loss: 0.1606 - accuracy: 0.9099 - val_loss: 0.1435 - val_accuracy: 0.9375\n",
            "Epoch 17/25\n",
            "4/4 [==============================] - 0s 11ms/step - loss: 0.1555 - accuracy: 0.9099 - val_loss: 0.1356 - val_accuracy: 0.9375\n",
            "Epoch 18/25\n",
            "4/4 [==============================] - 0s 12ms/step - loss: 0.1538 - accuracy: 0.9009 - val_loss: 0.1285 - val_accuracy: 0.9375\n",
            "Epoch 19/25\n",
            "4/4 [==============================] - 0s 10ms/step - loss: 0.1463 - accuracy: 0.9279 - val_loss: 0.1269 - val_accuracy: 0.9375\n",
            "Epoch 20/25\n",
            "4/4 [==============================] - 0s 11ms/step - loss: 0.1429 - accuracy: 0.9189 - val_loss: 0.1242 - val_accuracy: 0.9375\n",
            "Epoch 21/25\n",
            "4/4 [==============================] - 0s 12ms/step - loss: 0.1396 - accuracy: 0.9189 - val_loss: 0.1195 - val_accuracy: 0.9375\n",
            "Epoch 22/25\n",
            "4/4 [==============================] - 0s 11ms/step - loss: 0.1388 - accuracy: 0.9099 - val_loss: 0.1137 - val_accuracy: 0.9375\n",
            "Epoch 23/25\n",
            "4/4 [==============================] - 0s 11ms/step - loss: 0.1341 - accuracy: 0.9189 - val_loss: 0.1087 - val_accuracy: 0.9375\n",
            "Epoch 24/25\n",
            "4/4 [==============================] - 0s 11ms/step - loss: 0.1328 - accuracy: 0.9189 - val_loss: 0.1077 - val_accuracy: 0.9375\n",
            "Epoch 25/25\n",
            "4/4 [==============================] - 0s 10ms/step - loss: 0.1302 - accuracy: 0.9279 - val_loss: 0.1064 - val_accuracy: 0.9583\n"
          ]
        },
        {
          "output_type": "execute_result",
          "data": {
            "text/plain": [
              "<keras.callbacks.History at 0x7f2f60454590>"
            ]
          },
          "metadata": {},
          "execution_count": 18
        }
      ]
    },
    {
      "cell_type": "markdown",
      "source": [
        "##Momentum=0.9"
      ],
      "metadata": {
        "id": "mJsRvakU6NJ7"
      }
    },
    {
      "cell_type": "code",
      "source": [
        "model7 = tf.keras.Sequential()\n",
        "model7.add(tf.keras.layers.Dense(256,activation='relu',input_shape=(7,)))\n",
        "model7.add(tf.keras.layers.Dense(32,activation='relu'))\n",
        "model7.add(tf.keras.layers.Dense(3,activation='softmax'))\n",
        "#model.summary()\n",
        "model7.compile(loss='binary_crossentropy', optimizer=tf.keras.optimizers.SGD(learning_rate=0.1, momentum=0.9), metrics=['accuracy'])\n",
        "model7.fit(xtrain, ytrain, epochs=25, validation_split=0.3)"
      ],
      "metadata": {
        "colab": {
          "base_uri": "https://localhost:8080/"
        },
        "id": "bszlRL4f1VPz",
        "outputId": "313a9cd0-2bfd-4f58-d792-72637ab875a5"
      },
      "execution_count": null,
      "outputs": [
        {
          "output_type": "stream",
          "name": "stdout",
          "text": [
            "Epoch 1/25\n",
            "4/4 [==============================] - 1s 56ms/step - loss: 0.6290 - accuracy: 0.7117 - val_loss: 0.5184 - val_accuracy: 0.6667\n",
            "Epoch 2/25\n",
            "4/4 [==============================] - 0s 10ms/step - loss: 0.4794 - accuracy: 0.7387 - val_loss: 0.3731 - val_accuracy: 0.6875\n",
            "Epoch 3/25\n",
            "4/4 [==============================] - 0s 13ms/step - loss: 0.3368 - accuracy: 0.7658 - val_loss: 0.2987 - val_accuracy: 0.7083\n",
            "Epoch 4/25\n",
            "4/4 [==============================] - 0s 11ms/step - loss: 0.2621 - accuracy: 0.8198 - val_loss: 0.2651 - val_accuracy: 0.8125\n",
            "Epoch 5/25\n",
            "4/4 [==============================] - 0s 10ms/step - loss: 0.2170 - accuracy: 0.8559 - val_loss: 0.1954 - val_accuracy: 0.8958\n",
            "Epoch 6/25\n",
            "4/4 [==============================] - 0s 11ms/step - loss: 0.1733 - accuracy: 0.9009 - val_loss: 0.1339 - val_accuracy: 0.8958\n",
            "Epoch 7/25\n",
            "4/4 [==============================] - 0s 13ms/step - loss: 0.1647 - accuracy: 0.8919 - val_loss: 0.1139 - val_accuracy: 0.9167\n",
            "Epoch 8/25\n",
            "4/4 [==============================] - 0s 12ms/step - loss: 0.1471 - accuracy: 0.9009 - val_loss: 0.1157 - val_accuracy: 0.9375\n",
            "Epoch 9/25\n",
            "4/4 [==============================] - 0s 17ms/step - loss: 0.1383 - accuracy: 0.9099 - val_loss: 0.1321 - val_accuracy: 0.9375\n",
            "Epoch 10/25\n",
            "4/4 [==============================] - 0s 12ms/step - loss: 0.1409 - accuracy: 0.8919 - val_loss: 0.1199 - val_accuracy: 0.9375\n",
            "Epoch 11/25\n",
            "4/4 [==============================] - 0s 16ms/step - loss: 0.1257 - accuracy: 0.9099 - val_loss: 0.0938 - val_accuracy: 0.9583\n",
            "Epoch 12/25\n",
            "4/4 [==============================] - 0s 18ms/step - loss: 0.1176 - accuracy: 0.9279 - val_loss: 0.0842 - val_accuracy: 0.9583\n",
            "Epoch 13/25\n",
            "4/4 [==============================] - 0s 11ms/step - loss: 0.1122 - accuracy: 0.9279 - val_loss: 0.0826 - val_accuracy: 0.9583\n",
            "Epoch 14/25\n",
            "4/4 [==============================] - 0s 12ms/step - loss: 0.1067 - accuracy: 0.9369 - val_loss: 0.0823 - val_accuracy: 0.9583\n",
            "Epoch 15/25\n",
            "4/4 [==============================] - 0s 14ms/step - loss: 0.1039 - accuracy: 0.9459 - val_loss: 0.0786 - val_accuracy: 0.9583\n",
            "Epoch 16/25\n",
            "4/4 [==============================] - 0s 11ms/step - loss: 0.0987 - accuracy: 0.9459 - val_loss: 0.0672 - val_accuracy: 0.9583\n",
            "Epoch 17/25\n",
            "4/4 [==============================] - 0s 11ms/step - loss: 0.0988 - accuracy: 0.9189 - val_loss: 0.0568 - val_accuracy: 0.9583\n",
            "Epoch 18/25\n",
            "4/4 [==============================] - 0s 11ms/step - loss: 0.0948 - accuracy: 0.9279 - val_loss: 0.0636 - val_accuracy: 0.9583\n",
            "Epoch 19/25\n",
            "4/4 [==============================] - 0s 10ms/step - loss: 0.0890 - accuracy: 0.9369 - val_loss: 0.0568 - val_accuracy: 0.9583\n",
            "Epoch 20/25\n",
            "4/4 [==============================] - 0s 12ms/step - loss: 0.0861 - accuracy: 0.9369 - val_loss: 0.0625 - val_accuracy: 0.9583\n",
            "Epoch 21/25\n",
            "4/4 [==============================] - 0s 11ms/step - loss: 0.0839 - accuracy: 0.9459 - val_loss: 0.0607 - val_accuracy: 0.9583\n",
            "Epoch 22/25\n",
            "4/4 [==============================] - 0s 11ms/step - loss: 0.0798 - accuracy: 0.9459 - val_loss: 0.0622 - val_accuracy: 0.9583\n",
            "Epoch 23/25\n",
            "4/4 [==============================] - 0s 12ms/step - loss: 0.0758 - accuracy: 0.9550 - val_loss: 0.0510 - val_accuracy: 0.9583\n",
            "Epoch 24/25\n",
            "4/4 [==============================] - 0s 12ms/step - loss: 0.0744 - accuracy: 0.9550 - val_loss: 0.0450 - val_accuracy: 0.9583\n",
            "Epoch 25/25\n",
            "4/4 [==============================] - 0s 11ms/step - loss: 0.0707 - accuracy: 0.9550 - val_loss: 0.0518 - val_accuracy: 0.9583\n"
          ]
        },
        {
          "output_type": "execute_result",
          "data": {
            "text/plain": [
              "<keras.callbacks.History at 0x7f2f6022a850>"
            ]
          },
          "metadata": {},
          "execution_count": 19
        }
      ]
    },
    {
      "cell_type": "markdown",
      "source": [
        "##Momentum=0.99"
      ],
      "metadata": {
        "id": "FezhDpoO6O-J"
      }
    },
    {
      "cell_type": "code",
      "source": [
        "model8 = tf.keras.Sequential()\n",
        "model8.add(tf.keras.layers.Dense(256,activation='relu',input_shape=(7,)))\n",
        "model8.add(tf.keras.layers.Dense(32,activation='relu'))\n",
        "model8.add(tf.keras.layers.Dense(3,activation='softmax'))\n",
        "#model.summary()\n",
        "model8.compile(loss='binary_crossentropy', optimizer=tf.keras.optimizers.SGD(learning_rate=0.1, momentum=0.99), metrics=['accuracy'])\n",
        "model8.fit(xtrain, ytrain, epochs=25, validation_split=0.3)"
      ],
      "metadata": {
        "colab": {
          "base_uri": "https://localhost:8080/"
        },
        "id": "ushZm_OD1ceq",
        "outputId": "bcc38ca4-4c00-4a9d-d64f-0f9e3f9b616c"
      },
      "execution_count": null,
      "outputs": [
        {
          "output_type": "stream",
          "name": "stdout",
          "text": [
            "Epoch 1/25\n",
            "4/4 [==============================] - 1s 56ms/step - loss: 0.6967 - accuracy: 0.4775 - val_loss: 0.5702 - val_accuracy: 0.7500\n",
            "Epoch 2/25\n",
            "4/4 [==============================] - 0s 10ms/step - loss: 0.5285 - accuracy: 0.8108 - val_loss: 0.3976 - val_accuracy: 0.7708\n",
            "Epoch 3/25\n",
            "4/4 [==============================] - 0s 10ms/step - loss: 0.3646 - accuracy: 0.8198 - val_loss: 0.2868 - val_accuracy: 0.7917\n",
            "Epoch 4/25\n",
            "4/4 [==============================] - 0s 10ms/step - loss: 0.2532 - accuracy: 0.8198 - val_loss: 0.2403 - val_accuracy: 0.8542\n",
            "Epoch 5/25\n",
            "4/4 [==============================] - 0s 10ms/step - loss: 0.2061 - accuracy: 0.8649 - val_loss: 0.1589 - val_accuracy: 0.9167\n",
            "Epoch 6/25\n",
            "4/4 [==============================] - 0s 10ms/step - loss: 0.1656 - accuracy: 0.9099 - val_loss: 0.0985 - val_accuracy: 0.9167\n",
            "Epoch 7/25\n",
            "4/4 [==============================] - 0s 12ms/step - loss: 0.1747 - accuracy: 0.8919 - val_loss: 0.1011 - val_accuracy: 0.9375\n",
            "Epoch 8/25\n",
            "4/4 [==============================] - 0s 10ms/step - loss: 0.1607 - accuracy: 0.9189 - val_loss: 0.1741 - val_accuracy: 0.9375\n",
            "Epoch 9/25\n",
            "4/4 [==============================] - 0s 10ms/step - loss: 0.2183 - accuracy: 0.8919 - val_loss: 0.2155 - val_accuracy: 0.9375\n",
            "Epoch 10/25\n",
            "4/4 [==============================] - 0s 11ms/step - loss: 0.1857 - accuracy: 0.9099 - val_loss: 0.0423 - val_accuracy: 0.9583\n",
            "Epoch 11/25\n",
            "4/4 [==============================] - 0s 11ms/step - loss: 0.1846 - accuracy: 0.9189 - val_loss: 0.0822 - val_accuracy: 0.9583\n",
            "Epoch 12/25\n",
            "4/4 [==============================] - 0s 10ms/step - loss: 0.2200 - accuracy: 0.9009 - val_loss: 0.3221 - val_accuracy: 0.8750\n",
            "Epoch 13/25\n",
            "4/4 [==============================] - 0s 10ms/step - loss: 0.2427 - accuracy: 0.9279 - val_loss: 0.0228 - val_accuracy: 1.0000\n",
            "Epoch 14/25\n",
            "4/4 [==============================] - 0s 11ms/step - loss: 0.1962 - accuracy: 0.8649 - val_loss: 0.0582 - val_accuracy: 0.9583\n",
            "Epoch 15/25\n",
            "4/4 [==============================] - 0s 16ms/step - loss: 0.1590 - accuracy: 0.9550 - val_loss: 0.1927 - val_accuracy: 0.9375\n",
            "Epoch 16/25\n",
            "4/4 [==============================] - 0s 10ms/step - loss: 0.1962 - accuracy: 0.9369 - val_loss: 0.0855 - val_accuracy: 0.9583\n",
            "Epoch 17/25\n",
            "4/4 [==============================] - 0s 12ms/step - loss: 0.1856 - accuracy: 0.9369 - val_loss: 0.0443 - val_accuracy: 0.9792\n",
            "Epoch 18/25\n",
            "4/4 [==============================] - 0s 9ms/step - loss: 0.1541 - accuracy: 0.9459 - val_loss: 0.0575 - val_accuracy: 0.9583\n",
            "Epoch 19/25\n",
            "4/4 [==============================] - 0s 10ms/step - loss: 0.1406 - accuracy: 0.9550 - val_loss: 0.1420 - val_accuracy: 0.9583\n",
            "Epoch 20/25\n",
            "4/4 [==============================] - 0s 10ms/step - loss: 0.0927 - accuracy: 0.9640 - val_loss: 0.1853 - val_accuracy: 0.9583\n",
            "Epoch 21/25\n",
            "4/4 [==============================] - 0s 10ms/step - loss: 0.1107 - accuracy: 0.9550 - val_loss: 0.1815 - val_accuracy: 0.9583\n",
            "Epoch 22/25\n",
            "4/4 [==============================] - 0s 10ms/step - loss: 0.1023 - accuracy: 0.9550 - val_loss: 0.1623 - val_accuracy: 0.9583\n",
            "Epoch 23/25\n",
            "4/4 [==============================] - 0s 10ms/step - loss: 0.0945 - accuracy: 0.9640 - val_loss: 0.1480 - val_accuracy: 0.9583\n",
            "Epoch 24/25\n",
            "4/4 [==============================] - 0s 12ms/step - loss: 0.0936 - accuracy: 0.9459 - val_loss: 0.1460 - val_accuracy: 0.9583\n",
            "Epoch 25/25\n",
            "4/4 [==============================] - 0s 10ms/step - loss: 0.0887 - accuracy: 0.9550 - val_loss: 0.1200 - val_accuracy: 0.9583\n"
          ]
        },
        {
          "output_type": "execute_result",
          "data": {
            "text/plain": [
              "<keras.callbacks.History at 0x7f2f57131a90>"
            ]
          },
          "metadata": {},
          "execution_count": 20
        }
      ]
    },
    {
      "cell_type": "markdown",
      "source": [
        "#Adagrad"
      ],
      "metadata": {
        "id": "Dcsz7qpM6RDo"
      }
    },
    {
      "cell_type": "code",
      "source": [
        "model9 = tf.keras.Sequential()\n",
        "model9.add(tf.keras.layers.Dense(256,activation='relu',input_shape=(7,)))\n",
        "model9.add(tf.keras.layers.Dense(32,activation='relu'))\n",
        "model9.add(tf.keras.layers.Dense(3,activation='softmax'))\n",
        "#model.summary()\n",
        "model9.compile(loss='binary_crossentropy', optimizer=tf.keras.optimizers.Adagrad(learning_rate=0.1), metrics=['accuracy'])\n",
        "model9.fit(xtrain, ytrain, epochs=25, validation_split=0.3)"
      ],
      "metadata": {
        "colab": {
          "base_uri": "https://localhost:8080/"
        },
        "id": "sW93JCp31i11",
        "outputId": "87f3b851-7ae0-408c-d113-46940f340d99"
      },
      "execution_count": null,
      "outputs": [
        {
          "output_type": "stream",
          "name": "stdout",
          "text": [
            "Epoch 1/25\n",
            "4/4 [==============================] - 1s 58ms/step - loss: 0.5929 - accuracy: 0.8288 - val_loss: 0.4661 - val_accuracy: 0.8125\n",
            "Epoch 2/25\n",
            "4/4 [==============================] - 0s 10ms/step - loss: 0.4443 - accuracy: 0.8468 - val_loss: 0.3739 - val_accuracy: 0.7708\n",
            "Epoch 3/25\n",
            "4/4 [==============================] - 0s 12ms/step - loss: 0.3580 - accuracy: 0.8108 - val_loss: 0.3175 - val_accuracy: 0.8333\n",
            "Epoch 4/25\n",
            "4/4 [==============================] - 0s 9ms/step - loss: 0.3059 - accuracy: 0.8559 - val_loss: 0.2789 - val_accuracy: 0.8542\n",
            "Epoch 5/25\n",
            "4/4 [==============================] - 0s 10ms/step - loss: 0.2687 - accuracy: 0.8739 - val_loss: 0.2471 - val_accuracy: 0.8750\n",
            "Epoch 6/25\n",
            "4/4 [==============================] - 0s 10ms/step - loss: 0.2401 - accuracy: 0.8739 - val_loss: 0.2250 - val_accuracy: 0.8958\n",
            "Epoch 7/25\n",
            "4/4 [==============================] - 0s 10ms/step - loss: 0.2203 - accuracy: 0.8829 - val_loss: 0.2154 - val_accuracy: 0.8958\n",
            "Epoch 8/25\n",
            "4/4 [==============================] - 0s 11ms/step - loss: 0.2043 - accuracy: 0.8919 - val_loss: 0.1968 - val_accuracy: 0.8958\n",
            "Epoch 9/25\n",
            "4/4 [==============================] - 0s 11ms/step - loss: 0.1915 - accuracy: 0.8919 - val_loss: 0.1813 - val_accuracy: 0.8958\n",
            "Epoch 10/25\n",
            "4/4 [==============================] - 0s 11ms/step - loss: 0.1800 - accuracy: 0.8829 - val_loss: 0.1609 - val_accuracy: 0.9375\n",
            "Epoch 11/25\n",
            "4/4 [==============================] - 0s 10ms/step - loss: 0.1729 - accuracy: 0.8829 - val_loss: 0.1588 - val_accuracy: 0.9375\n",
            "Epoch 12/25\n",
            "4/4 [==============================] - 0s 10ms/step - loss: 0.1638 - accuracy: 0.9009 - val_loss: 0.1524 - val_accuracy: 0.9375\n",
            "Epoch 13/25\n",
            "4/4 [==============================] - 0s 11ms/step - loss: 0.1568 - accuracy: 0.8919 - val_loss: 0.1374 - val_accuracy: 0.9375\n",
            "Epoch 14/25\n",
            "4/4 [==============================] - 0s 17ms/step - loss: 0.1538 - accuracy: 0.9099 - val_loss: 0.1310 - val_accuracy: 0.9375\n",
            "Epoch 15/25\n",
            "4/4 [==============================] - 0s 12ms/step - loss: 0.1457 - accuracy: 0.9189 - val_loss: 0.1317 - val_accuracy: 0.9375\n",
            "Epoch 16/25\n",
            "4/4 [==============================] - 0s 11ms/step - loss: 0.1409 - accuracy: 0.9099 - val_loss: 0.1197 - val_accuracy: 0.9375\n",
            "Epoch 17/25\n",
            "4/4 [==============================] - 0s 11ms/step - loss: 0.1394 - accuracy: 0.9279 - val_loss: 0.1266 - val_accuracy: 0.9375\n",
            "Epoch 18/25\n",
            "4/4 [==============================] - 0s 12ms/step - loss: 0.1360 - accuracy: 0.9189 - val_loss: 0.1213 - val_accuracy: 0.9375\n",
            "Epoch 19/25\n",
            "4/4 [==============================] - 0s 12ms/step - loss: 0.1316 - accuracy: 0.9189 - val_loss: 0.1183 - val_accuracy: 0.9375\n",
            "Epoch 20/25\n",
            "4/4 [==============================] - 0s 12ms/step - loss: 0.1352 - accuracy: 0.9189 - val_loss: 0.1205 - val_accuracy: 0.9375\n",
            "Epoch 21/25\n",
            "4/4 [==============================] - 0s 11ms/step - loss: 0.1265 - accuracy: 0.9189 - val_loss: 0.1196 - val_accuracy: 0.9375\n",
            "Epoch 22/25\n",
            "4/4 [==============================] - 0s 14ms/step - loss: 0.1237 - accuracy: 0.9009 - val_loss: 0.0909 - val_accuracy: 0.9583\n",
            "Epoch 23/25\n",
            "4/4 [==============================] - 0s 11ms/step - loss: 0.1252 - accuracy: 0.9279 - val_loss: 0.1003 - val_accuracy: 0.9583\n",
            "Epoch 24/25\n",
            "4/4 [==============================] - 0s 13ms/step - loss: 0.1176 - accuracy: 0.9189 - val_loss: 0.0961 - val_accuracy: 0.9583\n",
            "Epoch 25/25\n",
            "4/4 [==============================] - 0s 11ms/step - loss: 0.1179 - accuracy: 0.9279 - val_loss: 0.0942 - val_accuracy: 0.9583\n"
          ]
        },
        {
          "output_type": "execute_result",
          "data": {
            "text/plain": [
              "<keras.callbacks.History at 0x7f2f59000850>"
            ]
          },
          "metadata": {},
          "execution_count": 21
        }
      ]
    },
    {
      "cell_type": "markdown",
      "source": [
        "#Adam"
      ],
      "metadata": {
        "id": "VX_kp1C76VPR"
      }
    },
    {
      "cell_type": "code",
      "source": [
        "model10 = tf.keras.Sequential()\n",
        "model10.add(tf.keras.layers.Dense(256,activation='relu',input_shape=(7,)))\n",
        "model10.add(tf.keras.layers.Dense(32,activation='relu'))\n",
        "model10.add(tf.keras.layers.Dense(3,activation='softmax'))\n",
        "#model.summary()\n",
        "model10.compile(loss='binary_crossentropy', optimizer=tf.keras.optimizers.Adam(learning_rate=0.01), metrics=['accuracy'])\n",
        "model10.fit(xtrain, ytrain, epochs=25, validation_split=0.3)"
      ],
      "metadata": {
        "colab": {
          "base_uri": "https://localhost:8080/"
        },
        "id": "RrRd-fOc4Dr7",
        "outputId": "3ff5b34d-8099-4ebb-8e1a-2250903adfae"
      },
      "execution_count": null,
      "outputs": [
        {
          "output_type": "stream",
          "name": "stdout",
          "text": [
            "Epoch 1/25\n",
            "4/4 [==============================] - 1s 55ms/step - loss: 0.5010 - accuracy: 0.6216 - val_loss: 0.2870 - val_accuracy: 0.7708\n",
            "Epoch 2/25\n",
            "4/4 [==============================] - 0s 10ms/step - loss: 0.2472 - accuracy: 0.8378 - val_loss: 0.1959 - val_accuracy: 0.8750\n",
            "Epoch 3/25\n",
            "4/4 [==============================] - 0s 11ms/step - loss: 0.1634 - accuracy: 0.8739 - val_loss: 0.1255 - val_accuracy: 0.9167\n",
            "Epoch 4/25\n",
            "4/4 [==============================] - 0s 10ms/step - loss: 0.1577 - accuracy: 0.9009 - val_loss: 0.1090 - val_accuracy: 0.9375\n",
            "Epoch 5/25\n",
            "4/4 [==============================] - 0s 10ms/step - loss: 0.1309 - accuracy: 0.9099 - val_loss: 0.1131 - val_accuracy: 0.9375\n",
            "Epoch 6/25\n",
            "4/4 [==============================] - 0s 10ms/step - loss: 0.1147 - accuracy: 0.9189 - val_loss: 0.0923 - val_accuracy: 0.9583\n",
            "Epoch 7/25\n",
            "4/4 [==============================] - 0s 10ms/step - loss: 0.0945 - accuracy: 0.9459 - val_loss: 0.0559 - val_accuracy: 0.9583\n",
            "Epoch 8/25\n",
            "4/4 [==============================] - 0s 11ms/step - loss: 0.0925 - accuracy: 0.9279 - val_loss: 0.0662 - val_accuracy: 0.9583\n",
            "Epoch 9/25\n",
            "4/4 [==============================] - 0s 9ms/step - loss: 0.0934 - accuracy: 0.9550 - val_loss: 0.0538 - val_accuracy: 0.9583\n",
            "Epoch 10/25\n",
            "4/4 [==============================] - 0s 12ms/step - loss: 0.0739 - accuracy: 0.9550 - val_loss: 0.0385 - val_accuracy: 1.0000\n",
            "Epoch 11/25\n",
            "4/4 [==============================] - 0s 10ms/step - loss: 0.0558 - accuracy: 0.9640 - val_loss: 0.0818 - val_accuracy: 0.9583\n",
            "Epoch 12/25\n",
            "4/4 [==============================] - 0s 16ms/step - loss: 0.0816 - accuracy: 0.9640 - val_loss: 0.0759 - val_accuracy: 0.9583\n",
            "Epoch 13/25\n",
            "4/4 [==============================] - 0s 11ms/step - loss: 0.0438 - accuracy: 0.9820 - val_loss: 0.0546 - val_accuracy: 0.9583\n",
            "Epoch 14/25\n",
            "4/4 [==============================] - 0s 11ms/step - loss: 0.0868 - accuracy: 0.9550 - val_loss: 0.0400 - val_accuracy: 0.9583\n",
            "Epoch 15/25\n",
            "4/4 [==============================] - 0s 10ms/step - loss: 0.0617 - accuracy: 0.9820 - val_loss: 0.1466 - val_accuracy: 0.9375\n",
            "Epoch 16/25\n",
            "4/4 [==============================] - 0s 11ms/step - loss: 0.0691 - accuracy: 0.9640 - val_loss: 0.0674 - val_accuracy: 0.9583\n",
            "Epoch 17/25\n",
            "4/4 [==============================] - 0s 16ms/step - loss: 0.0456 - accuracy: 0.9820 - val_loss: 0.0480 - val_accuracy: 0.9583\n",
            "Epoch 18/25\n",
            "4/4 [==============================] - 0s 11ms/step - loss: 0.0708 - accuracy: 0.9640 - val_loss: 0.0419 - val_accuracy: 0.9792\n",
            "Epoch 19/25\n",
            "4/4 [==============================] - 0s 12ms/step - loss: 0.0352 - accuracy: 0.9820 - val_loss: 0.0743 - val_accuracy: 0.9583\n",
            "Epoch 20/25\n",
            "4/4 [==============================] - 0s 11ms/step - loss: 0.0386 - accuracy: 0.9820 - val_loss: 0.0546 - val_accuracy: 0.9792\n",
            "Epoch 21/25\n",
            "4/4 [==============================] - 0s 12ms/step - loss: 0.0313 - accuracy: 0.9730 - val_loss: 0.0485 - val_accuracy: 0.9792\n",
            "Epoch 22/25\n",
            "4/4 [==============================] - 0s 11ms/step - loss: 0.0265 - accuracy: 0.9820 - val_loss: 0.0498 - val_accuracy: 0.9792\n",
            "Epoch 23/25\n",
            "4/4 [==============================] - 0s 12ms/step - loss: 0.0243 - accuracy: 0.9730 - val_loss: 0.0587 - val_accuracy: 0.9583\n",
            "Epoch 24/25\n",
            "4/4 [==============================] - 0s 12ms/step - loss: 0.0272 - accuracy: 0.9910 - val_loss: 0.0764 - val_accuracy: 0.9583\n",
            "Epoch 25/25\n",
            "4/4 [==============================] - 0s 13ms/step - loss: 0.0258 - accuracy: 0.9730 - val_loss: 0.0603 - val_accuracy: 0.9583\n"
          ]
        },
        {
          "output_type": "execute_result",
          "data": {
            "text/plain": [
              "<keras.callbacks.History at 0x7f2f58e64e50>"
            ]
          },
          "metadata": {},
          "execution_count": 22
        }
      ]
    },
    {
      "cell_type": "markdown",
      "source": [
        "#RMSprop"
      ],
      "metadata": {
        "id": "6pCUr2in6YK2"
      }
    },
    {
      "cell_type": "code",
      "source": [
        "model11 = tf.keras.Sequential()\n",
        "model11.add(tf.keras.layers.Dense(256,activation='relu',input_shape=(7,)))\n",
        "model11.add(tf.keras.layers.Dense(32,activation='relu'))\n",
        "model11.add(tf.keras.layers.Dense(3,activation='softmax'))\n",
        "#model.summary()\n",
        "model11.compile(loss='binary_crossentropy', optimizer=tf.keras.optimizers.RMSprop(learning_rate=0.01), metrics=['accuracy'])\n",
        "model11.fit(xtrain, ytrain, epochs=25, validation_split=0.3)"
      ],
      "metadata": {
        "colab": {
          "base_uri": "https://localhost:8080/"
        },
        "id": "o8JxJG0E4eHK",
        "outputId": "a1d7722f-8934-4a34-c6fd-2082519eca26"
      },
      "execution_count": null,
      "outputs": [
        {
          "output_type": "stream",
          "name": "stdout",
          "text": [
            "Epoch 1/25\n",
            "4/4 [==============================] - 1s 61ms/step - loss: 0.3991 - accuracy: 0.6667 - val_loss: 0.2530 - val_accuracy: 0.8125\n",
            "Epoch 2/25\n",
            "4/4 [==============================] - 0s 11ms/step - loss: 0.2513 - accuracy: 0.8559 - val_loss: 0.2581 - val_accuracy: 0.8750\n",
            "Epoch 3/25\n",
            "4/4 [==============================] - 0s 11ms/step - loss: 0.1969 - accuracy: 0.8739 - val_loss: 0.1414 - val_accuracy: 0.9375\n",
            "Epoch 4/25\n",
            "4/4 [==============================] - 0s 11ms/step - loss: 0.1554 - accuracy: 0.8919 - val_loss: 0.1674 - val_accuracy: 0.9167\n",
            "Epoch 5/25\n",
            "4/4 [==============================] - 0s 12ms/step - loss: 0.1429 - accuracy: 0.9189 - val_loss: 0.0860 - val_accuracy: 0.9375\n",
            "Epoch 6/25\n",
            "4/4 [==============================] - 0s 13ms/step - loss: 0.1336 - accuracy: 0.9189 - val_loss: 0.0778 - val_accuracy: 0.9583\n",
            "Epoch 7/25\n",
            "4/4 [==============================] - 0s 19ms/step - loss: 0.1122 - accuracy: 0.9279 - val_loss: 0.3421 - val_accuracy: 0.7708\n",
            "Epoch 8/25\n",
            "4/4 [==============================] - 0s 11ms/step - loss: 0.1547 - accuracy: 0.9099 - val_loss: 0.1503 - val_accuracy: 0.9583\n",
            "Epoch 9/25\n",
            "4/4 [==============================] - 0s 11ms/step - loss: 0.0928 - accuracy: 0.9459 - val_loss: 0.2464 - val_accuracy: 0.8125\n",
            "Epoch 10/25\n",
            "4/4 [==============================] - 0s 11ms/step - loss: 0.1566 - accuracy: 0.9099 - val_loss: 0.0881 - val_accuracy: 0.9583\n",
            "Epoch 11/25\n",
            "4/4 [==============================] - 0s 11ms/step - loss: 0.0656 - accuracy: 0.9550 - val_loss: 0.0545 - val_accuracy: 0.9583\n",
            "Epoch 12/25\n",
            "4/4 [==============================] - 0s 14ms/step - loss: 0.0837 - accuracy: 0.9550 - val_loss: 0.0567 - val_accuracy: 0.9792\n",
            "Epoch 13/25\n",
            "4/4 [==============================] - 0s 10ms/step - loss: 0.0611 - accuracy: 0.9820 - val_loss: 0.0477 - val_accuracy: 0.9583\n",
            "Epoch 14/25\n",
            "4/4 [==============================] - 0s 12ms/step - loss: 0.0572 - accuracy: 0.9459 - val_loss: 0.0864 - val_accuracy: 0.9167\n",
            "Epoch 15/25\n",
            "4/4 [==============================] - 0s 9ms/step - loss: 0.1071 - accuracy: 0.9369 - val_loss: 0.0665 - val_accuracy: 0.9583\n",
            "Epoch 16/25\n",
            "4/4 [==============================] - 0s 11ms/step - loss: 0.0672 - accuracy: 0.9640 - val_loss: 0.0838 - val_accuracy: 0.9583\n",
            "Epoch 17/25\n",
            "4/4 [==============================] - 0s 10ms/step - loss: 0.0717 - accuracy: 0.9640 - val_loss: 0.0586 - val_accuracy: 0.9583\n",
            "Epoch 18/25\n",
            "4/4 [==============================] - 0s 10ms/step - loss: 0.0472 - accuracy: 0.9730 - val_loss: 0.1143 - val_accuracy: 0.9583\n",
            "Epoch 19/25\n",
            "4/4 [==============================] - 0s 11ms/step - loss: 0.0949 - accuracy: 0.9369 - val_loss: 0.0543 - val_accuracy: 0.9583\n",
            "Epoch 20/25\n",
            "4/4 [==============================] - 0s 10ms/step - loss: 0.0472 - accuracy: 0.9820 - val_loss: 0.1392 - val_accuracy: 0.9583\n",
            "Epoch 21/25\n",
            "4/4 [==============================] - 0s 10ms/step - loss: 0.0575 - accuracy: 0.9550 - val_loss: 0.0746 - val_accuracy: 0.9583\n",
            "Epoch 22/25\n",
            "4/4 [==============================] - 0s 10ms/step - loss: 0.0430 - accuracy: 0.9730 - val_loss: 0.0668 - val_accuracy: 0.9583\n",
            "Epoch 23/25\n",
            "4/4 [==============================] - 0s 10ms/step - loss: 0.0392 - accuracy: 0.9730 - val_loss: 0.1374 - val_accuracy: 0.9167\n",
            "Epoch 24/25\n",
            "4/4 [==============================] - 0s 13ms/step - loss: 0.0324 - accuracy: 0.9820 - val_loss: 0.0436 - val_accuracy: 0.9792\n",
            "Epoch 25/25\n",
            "4/4 [==============================] - 0s 11ms/step - loss: 0.0461 - accuracy: 0.9640 - val_loss: 0.0501 - val_accuracy: 0.9583\n"
          ]
        },
        {
          "output_type": "execute_result",
          "data": {
            "text/plain": [
              "<keras.callbacks.History at 0x7f2f58cfebd0>"
            ]
          },
          "metadata": {},
          "execution_count": 23
        }
      ]
    },
    {
      "cell_type": "markdown",
      "source": [
        "#Conclusion:\n",
        "1. Best SGD learning rate is 0.1\n",
        "2. Best SGD momentum is 0.99\n",
        "3. Highest accuracy using SGD is 95.83\n",
        "4. Adam achieves 97.92 percent accuracy but does not save it and the accuracy decreases.\n",
        "5. RMSprop achieves variable accuracies."
      ],
      "metadata": {
        "id": "d97dM3Hi6cV4"
      }
    }
  ]
}