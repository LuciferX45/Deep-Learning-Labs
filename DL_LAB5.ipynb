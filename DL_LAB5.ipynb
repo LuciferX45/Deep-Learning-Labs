{
  "nbformat": 4,
  "nbformat_minor": 0,
  "metadata": {
    "colab": {
      "provenance": [],
      "include_colab_link": true
    },
    "kernelspec": {
      "name": "python3",
      "display_name": "Python 3"
    },
    "language_info": {
      "name": "python"
    },
    "gpuClass": "standard"
  },
  "cells": [
    {
      "cell_type": "markdown",
      "metadata": {
        "id": "view-in-github",
        "colab_type": "text"
      },
      "source": [
        "<a href=\"https://colab.research.google.com/github/LuciferX45/Deep-Learning-Labs/blob/main/DL_LAB5.ipynb\" target=\"_parent\"><img src=\"https://colab.research.google.com/assets/colab-badge.svg\" alt=\"Open In Colab\"/></a>"
      ]
    },
    {
      "cell_type": "markdown",
      "source": [
        "# **DL LAB 5**\n",
        "# **Gautam Padhi**\n",
        "# I034 B2\n",
        "# BTech AI SEM V\n"
      ],
      "metadata": {
        "id": "SGfzXw28_97x"
      }
    },
    {
      "cell_type": "code",
      "execution_count": null,
      "metadata": {
        "id": "QOeo9x9D1xYx"
      },
      "outputs": [],
      "source": [
        "from keras.datasets import imdb"
      ]
    },
    {
      "cell_type": "code",
      "source": [
        "import numpy as np"
      ],
      "metadata": {
        "id": "s_1bL34B2XFM"
      },
      "execution_count": null,
      "outputs": []
    },
    {
      "cell_type": "code",
      "source": [
        "(training_data, training_targets), (testing_data, testing_targets) = imdb.load_data(num_words=10000)"
      ],
      "metadata": {
        "id": "FNbdE4ZT2QMG",
        "colab": {
          "base_uri": "https://localhost:8080/"
        },
        "outputId": "0a4bb617-b090-47a8-e633-8704b662b9a7"
      },
      "execution_count": null,
      "outputs": [
        {
          "output_type": "stream",
          "name": "stdout",
          "text": [
            "Downloading data from https://storage.googleapis.com/tensorflow/tf-keras-datasets/imdb.npz\n",
            "17465344/17464789 [==============================] - 1s 0us/step\n",
            "17473536/17464789 [==============================] - 1s 0us/step\n"
          ]
        }
      ]
    },
    {
      "cell_type": "code",
      "source": [
        "#Make each review of equal dimensions - (25000x10000)\n",
        "def equal_number(s,d = 10000):\n",
        "  r = np.zeros((len(s), d))\n",
        "  for i, sequence in enumerate(s):\n",
        "    r[i, sequence] = 1\n",
        "  return r"
      ],
      "metadata": {
        "id": "J9ClzK7B3_70"
      },
      "execution_count": null,
      "outputs": []
    },
    {
      "cell_type": "code",
      "source": [
        "x = np.concatenate((training_data,testing_data))\n",
        "y = np.concatenate((training_targets,testing_targets))"
      ],
      "metadata": {
        "id": "9Uhmz9az5Qe6"
      },
      "execution_count": null,
      "outputs": []
    },
    {
      "cell_type": "code",
      "source": [
        "del training_data\n",
        "del training_targets\n",
        "del testing_data\n",
        "del testing_targets"
      ],
      "metadata": {
        "id": "W0WxOPfLbYgR"
      },
      "execution_count": null,
      "outputs": []
    },
    {
      "cell_type": "code",
      "source": [
        "x = equal_number(x)"
      ],
      "metadata": {
        "id": "VfKEiocTZzTH"
      },
      "execution_count": null,
      "outputs": []
    },
    {
      "cell_type": "code",
      "source": [
        "from sklearn.model_selection import train_test_split\n",
        "x_train, x_test, y_train, y_test = train_test_split(x, y, test_size=0.35, random_state=42)"
      ],
      "metadata": {
        "id": "mdGSTmeVY4HT"
      },
      "execution_count": null,
      "outputs": []
    },
    {
      "cell_type": "code",
      "source": [
        "del x\n",
        "del y"
      ],
      "metadata": {
        "id": "KQRJFxGWbT6Z"
      },
      "execution_count": null,
      "outputs": []
    },
    {
      "cell_type": "code",
      "source": [
        "x_train.shape"
      ],
      "metadata": {
        "id": "w9d3AW7t57KD",
        "colab": {
          "base_uri": "https://localhost:8080/"
        },
        "outputId": "1ba76565-9a3d-4e1b-81cc-be8f8df2a198"
      },
      "execution_count": null,
      "outputs": [
        {
          "output_type": "execute_result",
          "data": {
            "text/plain": [
              "(32500, 10000)"
            ]
          },
          "metadata": {},
          "execution_count": 10
        }
      ]
    },
    {
      "cell_type": "code",
      "source": [
        "x_test.shape"
      ],
      "metadata": {
        "id": "yC8Bo0nY6AsK",
        "colab": {
          "base_uri": "https://localhost:8080/"
        },
        "outputId": "59ae524d-8c9b-4b71-ef96-6d0878719da1"
      },
      "execution_count": null,
      "outputs": [
        {
          "output_type": "execute_result",
          "data": {
            "text/plain": [
              "(17500, 10000)"
            ]
          },
          "metadata": {},
          "execution_count": 11
        }
      ]
    },
    {
      "cell_type": "code",
      "source": [
        "y_train.shape"
      ],
      "metadata": {
        "id": "lrfOwT9W5lxj",
        "colab": {
          "base_uri": "https://localhost:8080/"
        },
        "outputId": "3ecaa411-1d1d-4a29-e717-b9e2873bf1bc"
      },
      "execution_count": null,
      "outputs": [
        {
          "output_type": "execute_result",
          "data": {
            "text/plain": [
              "(32500,)"
            ]
          },
          "metadata": {},
          "execution_count": 12
        }
      ]
    },
    {
      "cell_type": "code",
      "source": [
        "y_test.shape"
      ],
      "metadata": {
        "id": "QhIKs0fo6cEJ",
        "colab": {
          "base_uri": "https://localhost:8080/"
        },
        "outputId": "ed7fc551-aa9a-49b1-d4e6-80099853193c"
      },
      "execution_count": null,
      "outputs": [
        {
          "output_type": "execute_result",
          "data": {
            "text/plain": [
              "(17500,)"
            ]
          },
          "metadata": {},
          "execution_count": 13
        }
      ]
    },
    {
      "cell_type": "code",
      "source": [
        "from keras import models\n",
        "from keras import layers\n",
        "model = models.Sequential()\n",
        "#Input\n",
        "model.add(layers.Dense(50, activation = \"relu\", input_shape=(10000,)))\n",
        "#Hidden\n",
        "model.add(layers.Dense(50))\n",
        "model.add(layers.LeakyReLU(alpha = 0.01))\n",
        "model.add(layers.Dense(35, activation = \"relu\"))\n",
        "#Output\n",
        "model.add(layers.Dense(1, activation = \"sigmoid\"))\n",
        "model.summary()\n"
      ],
      "metadata": {
        "id": "TzEgbqnm6d05",
        "colab": {
          "base_uri": "https://localhost:8080/"
        },
        "outputId": "db232ff1-4abc-4870-d809-030d40c43746"
      },
      "execution_count": null,
      "outputs": [
        {
          "output_type": "stream",
          "name": "stdout",
          "text": [
            "Model: \"sequential\"\n",
            "_________________________________________________________________\n",
            " Layer (type)                Output Shape              Param #   \n",
            "=================================================================\n",
            " dense (Dense)               (None, 50)                500050    \n",
            "                                                                 \n",
            " dense_1 (Dense)             (None, 50)                2550      \n",
            "                                                                 \n",
            " leaky_re_lu (LeakyReLU)     (None, 50)                0         \n",
            "                                                                 \n",
            " dense_2 (Dense)             (None, 35)                1785      \n",
            "                                                                 \n",
            " dense_3 (Dense)             (None, 1)                 36        \n",
            "                                                                 \n",
            "=================================================================\n",
            "Total params: 504,421\n",
            "Trainable params: 504,421\n",
            "Non-trainable params: 0\n",
            "_________________________________________________________________\n"
          ]
        }
      ]
    },
    {
      "cell_type": "code",
      "source": [
        "model.compile(optimizer = \"adam\",loss = \"binary_crossentropy\",metrics = [\"accuracy\"])"
      ],
      "metadata": {
        "id": "o1FHLSfa71Ar"
      },
      "execution_count": null,
      "outputs": []
    },
    {
      "cell_type": "code",
      "source": [
        "results = model.fit(x_train,y_train,epochs = 20,validation_data=(x_test,y_test))"
      ],
      "metadata": {
        "id": "tQnFhQNY8_gD",
        "colab": {
          "base_uri": "https://localhost:8080/"
        },
        "outputId": "b67602cd-8d99-4a0a-8883-b4c07b5dd4f9"
      },
      "execution_count": null,
      "outputs": [
        {
          "output_type": "stream",
          "name": "stdout",
          "text": [
            "Epoch 1/20\n",
            "1016/1016 [==============================] - 10s 9ms/step - loss: 0.3120 - accuracy: 0.8664 - val_loss: 0.2631 - val_accuracy: 0.8904\n",
            "Epoch 2/20\n",
            "1016/1016 [==============================] - 10s 10ms/step - loss: 0.1819 - accuracy: 0.9253 - val_loss: 0.2816 - val_accuracy: 0.8893\n",
            "Epoch 3/20\n",
            "1016/1016 [==============================] - 9s 9ms/step - loss: 0.1035 - accuracy: 0.9582 - val_loss: 0.4237 - val_accuracy: 0.8779\n",
            "Epoch 4/20\n",
            "1016/1016 [==============================] - 10s 10ms/step - loss: 0.0416 - accuracy: 0.9842 - val_loss: 0.5638 - val_accuracy: 0.8749\n",
            "Epoch 5/20\n",
            "1016/1016 [==============================] - 10s 10ms/step - loss: 0.0183 - accuracy: 0.9941 - val_loss: 0.7172 - val_accuracy: 0.8834\n",
            "Epoch 6/20\n",
            "1016/1016 [==============================] - 10s 10ms/step - loss: 0.0133 - accuracy: 0.9958 - val_loss: 0.6864 - val_accuracy: 0.8799\n",
            "Epoch 7/20\n",
            "1016/1016 [==============================] - 9s 8ms/step - loss: 0.0086 - accuracy: 0.9975 - val_loss: 0.9555 - val_accuracy: 0.8701\n",
            "Epoch 8/20\n",
            "1016/1016 [==============================] - 10s 9ms/step - loss: 0.0067 - accuracy: 0.9980 - val_loss: 0.9331 - val_accuracy: 0.8822\n",
            "Epoch 9/20\n",
            "1016/1016 [==============================] - 10s 10ms/step - loss: 0.0089 - accuracy: 0.9969 - val_loss: 0.9751 - val_accuracy: 0.8734\n",
            "Epoch 10/20\n",
            "1016/1016 [==============================] - 10s 10ms/step - loss: 0.0101 - accuracy: 0.9966 - val_loss: 0.9028 - val_accuracy: 0.8818\n",
            "Epoch 11/20\n",
            "1016/1016 [==============================] - 10s 10ms/step - loss: 0.0059 - accuracy: 0.9981 - val_loss: 0.8470 - val_accuracy: 0.8822\n",
            "Epoch 12/20\n",
            "1016/1016 [==============================] - 10s 10ms/step - loss: 0.0029 - accuracy: 0.9993 - val_loss: 0.9605 - val_accuracy: 0.8773\n",
            "Epoch 13/20\n",
            "1016/1016 [==============================] - 9s 9ms/step - loss: 0.0053 - accuracy: 0.9982 - val_loss: 1.0088 - val_accuracy: 0.8793\n",
            "Epoch 14/20\n",
            "1016/1016 [==============================] - 10s 10ms/step - loss: 0.0034 - accuracy: 0.9989 - val_loss: 1.4397 - val_accuracy: 0.8497\n",
            "Epoch 15/20\n",
            "1016/1016 [==============================] - 9s 9ms/step - loss: 0.0042 - accuracy: 0.9987 - val_loss: 1.1189 - val_accuracy: 0.8786\n",
            "Epoch 16/20\n",
            "1016/1016 [==============================] - 8s 8ms/step - loss: 0.0031 - accuracy: 0.9991 - val_loss: 1.1817 - val_accuracy: 0.8823\n",
            "Epoch 17/20\n",
            "1016/1016 [==============================] - 10s 9ms/step - loss: 8.3268e-04 - accuracy: 0.9998 - val_loss: 1.2911 - val_accuracy: 0.8770\n",
            "Epoch 18/20\n",
            "1016/1016 [==============================] - 10s 9ms/step - loss: 0.0062 - accuracy: 0.9980 - val_loss: 1.0183 - val_accuracy: 0.8788\n",
            "Epoch 19/20\n",
            "1016/1016 [==============================] - 10s 9ms/step - loss: 0.0018 - accuracy: 0.9995 - val_loss: 1.1523 - val_accuracy: 0.8801\n",
            "Epoch 20/20\n",
            "1016/1016 [==============================] - 9s 9ms/step - loss: 0.0034 - accuracy: 0.9993 - val_loss: 1.0059 - val_accuracy: 0.8759\n"
          ]
        }
      ]
    },
    {
      "cell_type": "code",
      "source": [
        "import matplotlib.pyplot as plt\n",
        "loss_train = results.history['loss']\n",
        "loss_val = results.history['val_loss']\n",
        "epochs = range(1,21)\n",
        "plt.plot(epochs, loss_train, 'g', label='Training loss')\n",
        "plt.plot(epochs, loss_val, 'b', label='validation loss')\n",
        "plt.title('Training and Validation loss')\n",
        "plt.xlabel('Epochs')\n",
        "plt.ylabel('Loss')\n",
        "plt.legend()\n",
        "plt.show()"
      ],
      "metadata": {
        "id": "RHw_hL569Sls",
        "colab": {
          "base_uri": "https://localhost:8080/",
          "height": 295
        },
        "outputId": "b3bb8393-c7cd-4e3f-826b-77aca94e8f43"
      },
      "execution_count": null,
      "outputs": [
        {
          "output_type": "display_data",
          "data": {
            "text/plain": [
              "<Figure size 432x288 with 1 Axes>"
            ],
            "image/png": "[encoded data removed]"
          },
          "metadata": {
            "needs_background": "light"
          }
        }
      ]
    },
    {
      "cell_type": "code",
      "source": [
        "acc_train = results.history['accuracy']\n",
        "acc_val = results.history['val_accuracy']\n",
        "plt.plot(epochs, acc_train, 'b', label='Training accuracy')\n",
        "plt.plot(epochs, acc_val, 'g', label='Validation accuracy')\n",
        "plt.xlabel('Epochs')\n",
        "plt.ylabel('Accuracy')\n",
        "plt.legend()\n",
        "plt.show()"
      ],
      "metadata": {
        "id": "JK8HJKx8Bn0d",
        "colab": {
          "base_uri": "https://localhost:8080/",
          "height": 279
        },
        "outputId": "a0a23b62-f5e4-4598-e823-ffa452abfccc"
      },
      "execution_count": null,
      "outputs": [
        {
          "output_type": "display_data",
          "data": {
            "text/plain": [
              "<Figure size 432x288 with 1 Axes>"
            ],
            "image/png": "[encoded data removed]"
          },
          "metadata": {
            "needs_background": "light"
          }
        }
      ]
    },
    {
      "cell_type": "code",
      "source": [
        "del results\n",
        "del loss_train\n",
        "del loss_val\n",
        "del acc_train\n",
        "del acc_val"
      ],
      "metadata": {
        "id": "1taZMjpib0sZ"
      },
      "execution_count": null,
      "outputs": []
    },
    {
      "cell_type": "markdown",
      "source": [
        "#L1 Regularization"
      ],
      "metadata": {
        "id": "DjYNPTr0Sid6"
      }
    },
    {
      "cell_type": "code",
      "source": [
        "model = models.Sequential()\n",
        "#Input\n",
        "model.add(layers.Dense(50, activation = \"relu\", input_shape=(10000,)))\n",
        "#Hidden\n",
        "model.add(layers.Dense(50, kernel_regularizer='l1'))\n",
        "model.add(layers.LeakyReLU(alpha = 0.01))\n",
        "model.add(layers.Dense(35, kernel_regularizer='l1', activation = \"relu\"))\n",
        "#Output\n",
        "model.add(layers.Dense(1, activation = \"sigmoid\"))\n",
        "model.summary()\n",
        "model.compile(optimizer = \"adam\",loss = \"binary_crossentropy\",metrics = [\"accuracy\"])\n",
        "results = model.fit(x_train,y_train,epochs = 20,validation_data=(x_test,y_test))"
      ],
      "metadata": {
        "id": "B5dMTGOtEsZF",
        "colab": {
          "base_uri": "https://localhost:8080/"
        },
        "outputId": "328bd896-09c1-4216-8305-12cd9745904b"
      },
      "execution_count": null,
      "outputs": [
        {
          "output_type": "stream",
          "name": "stdout",
          "text": [
            "Model: \"sequential_1\"\n",
            "_________________________________________________________________\n",
            " Layer (type)                Output Shape              Param #   \n",
            "=================================================================\n",
            " dense_4 (Dense)             (None, 50)                500050    \n",
            "                                                                 \n",
            " dense_5 (Dense)             (None, 50)                2550      \n",
            "                                                                 \n",
            " leaky_re_lu_1 (LeakyReLU)   (None, 50)                0         \n",
            "                                                                 \n",
            " dense_6 (Dense)             (None, 35)                1785      \n",
            "                                                                 \n",
            " dense_7 (Dense)             (None, 1)                 36        \n",
            "                                                                 \n",
            "=================================================================\n",
            "Total params: 504,421\n",
            "Trainable params: 504,421\n",
            "Non-trainable params: 0\n",
            "_________________________________________________________________\n",
            "Epoch 1/20\n",
            "1016/1016 [==============================] - 11s 10ms/step - loss: 0.9417 - accuracy: 0.8710 - val_loss: 0.3654 - val_accuracy: 0.8984\n",
            "Epoch 2/20\n",
            "1016/1016 [==============================] - 10s 10ms/step - loss: 0.2991 - accuracy: 0.9194 - val_loss: 0.3423 - val_accuracy: 0.8950\n",
            "Epoch 3/20\n",
            "1016/1016 [==============================] - 10s 10ms/step - loss: 0.2473 - accuracy: 0.9333 - val_loss: 0.3428 - val_accuracy: 0.8905\n",
            "Epoch 4/20\n",
            "1016/1016 [==============================] - 10s 10ms/step - loss: 0.2196 - accuracy: 0.9430 - val_loss: 0.3550 - val_accuracy: 0.8883\n",
            "Epoch 5/20\n",
            "1016/1016 [==============================] - 10s 10ms/step - loss: 0.1980 - accuracy: 0.9485 - val_loss: 0.3602 - val_accuracy: 0.8857\n",
            "Epoch 6/20\n",
            "1016/1016 [==============================] - 10s 10ms/step - loss: 0.1793 - accuracy: 0.9562 - val_loss: 0.3899 - val_accuracy: 0.8834\n",
            "Epoch 7/20\n",
            "1016/1016 [==============================] - 9s 9ms/step - loss: 0.1622 - accuracy: 0.9627 - val_loss: 0.4112 - val_accuracy: 0.8803\n",
            "Epoch 8/20\n",
            "1016/1016 [==============================] - 10s 10ms/step - loss: 0.1420 - accuracy: 0.9718 - val_loss: 0.4283 - val_accuracy: 0.8772\n",
            "Epoch 9/20\n",
            "1016/1016 [==============================] - 10s 10ms/step - loss: 0.1257 - accuracy: 0.9784 - val_loss: 0.4616 - val_accuracy: 0.8771\n",
            "Epoch 10/20\n",
            "1016/1016 [==============================] - 10s 10ms/step - loss: 0.1082 - accuracy: 0.9858 - val_loss: 0.5095 - val_accuracy: 0.8743\n",
            "Epoch 11/20\n",
            "1016/1016 [==============================] - 10s 10ms/step - loss: 0.0962 - accuracy: 0.9897 - val_loss: 0.5357 - val_accuracy: 0.8709\n",
            "Epoch 12/20\n",
            "1016/1016 [==============================] - 10s 10ms/step - loss: 0.0855 - accuracy: 0.9933 - val_loss: 0.5704 - val_accuracy: 0.8695\n",
            "Epoch 13/20\n",
            "1016/1016 [==============================] - 10s 10ms/step - loss: 0.0772 - accuracy: 0.9951 - val_loss: 0.5693 - val_accuracy: 0.8737\n",
            "Epoch 14/20\n",
            "1016/1016 [==============================] - 9s 9ms/step - loss: 0.0725 - accuracy: 0.9958 - val_loss: 0.6275 - val_accuracy: 0.8668\n",
            "Epoch 15/20\n",
            "1016/1016 [==============================] - 10s 10ms/step - loss: 0.0672 - accuracy: 0.9969 - val_loss: 0.6172 - val_accuracy: 0.8702\n",
            "Epoch 16/20\n",
            "1016/1016 [==============================] - 9s 9ms/step - loss: 0.0634 - accuracy: 0.9974 - val_loss: 0.5835 - val_accuracy: 0.8720\n",
            "Epoch 17/20\n",
            "1016/1016 [==============================] - 10s 10ms/step - loss: 0.0601 - accuracy: 0.9979 - val_loss: 0.6172 - val_accuracy: 0.8694\n",
            "Epoch 18/20\n",
            "1016/1016 [==============================] - 11s 10ms/step - loss: 0.0567 - accuracy: 0.9982 - val_loss: 0.6156 - val_accuracy: 0.8699\n",
            "Epoch 19/20\n",
            "1016/1016 [==============================] - 10s 10ms/step - loss: 0.0548 - accuracy: 0.9980 - val_loss: 0.6011 - val_accuracy: 0.8707\n",
            "Epoch 20/20\n",
            "1016/1016 [==============================] - 10s 10ms/step - loss: 0.0537 - accuracy: 0.9981 - val_loss: 0.6234 - val_accuracy: 0.8692\n"
          ]
        }
      ]
    },
    {
      "cell_type": "code",
      "source": [
        "loss_train = results.history['loss']\n",
        "loss_val = results.history['val_loss']\n",
        "epochs = [i for i in range(1,21)]\n",
        "plt.plot(epochs, loss_train, 'g', label='Training loss')\n",
        "plt.plot(epochs, loss_val, 'b', label='validation loss')\n",
        "plt.title('Training and Validation loss')\n",
        "plt.xlabel('Epochs')\n",
        "plt.ylabel('Loss')\n",
        "plt.legend()\n",
        "plt.show()"
      ],
      "metadata": {
        "id": "RHLXjw6kSugi",
        "colab": {
          "base_uri": "https://localhost:8080/",
          "height": 295
        },
        "outputId": "b7544797-d6a4-4403-8572-c852c9a6c6b8"
      },
      "execution_count": null,
      "outputs": [
        {
          "output_type": "display_data",
          "data": {
            "text/plain": [
              "<Figure size 432x288 with 1 Axes>"
            ],
            "image/png": "[encoded data removed]"
          },
          "metadata": {
            "needs_background": "light"
          }
        }
      ]
    },
    {
      "cell_type": "code",
      "source": [
        "acc_train = results.history['accuracy']\n",
        "acc_val = results.history['val_accuracy']\n",
        "plt.plot(epochs, acc_train, 'b', label='Training accuracy')\n",
        "plt.plot(epochs, acc_val, 'g', label='Validation accuracy')\n",
        "plt.xlabel('Epochs')\n",
        "plt.ylabel('Accuracy')\n",
        "plt.legend()\n",
        "plt.show()"
      ],
      "metadata": {
        "id": "cW-jffL3Uvmq",
        "colab": {
          "base_uri": "https://localhost:8080/",
          "height": 279
        },
        "outputId": "572d7649-af8e-4d8c-8e94-eb699add2d2d"
      },
      "execution_count": null,
      "outputs": [
        {
          "output_type": "display_data",
          "data": {
            "text/plain": [
              "<Figure size 432x288 with 1 Axes>"
            ],
            "image/png": "[encoded data removed]"
          },
          "metadata": {
            "needs_background": "light"
          }
        }
      ]
    },
    {
      "cell_type": "code",
      "source": [
        "del results\n",
        "del loss_train\n",
        "del loss_val\n",
        "del acc_train\n",
        "del acc_val"
      ],
      "metadata": {
        "id": "SowukvkuXkCJ"
      },
      "execution_count": null,
      "outputs": []
    },
    {
      "cell_type": "markdown",
      "source": [
        "#L2 Regulaziation"
      ],
      "metadata": {
        "id": "vfXVlg6vThl7"
      }
    },
    {
      "cell_type": "code",
      "source": [
        "model = models.Sequential()\n",
        "#Input\n",
        "model.add(layers.Dense(50, activation = \"relu\", input_shape=(10000,)))\n",
        "#Hidden\n",
        "model.add(layers.Dense(50, kernel_regularizer='l2'))\n",
        "model.add(layers.LeakyReLU(alpha = 0.01))\n",
        "model.add(layers.Dense(35, kernel_regularizer='l2', activation = \"relu\"))\n",
        "#Output\n",
        "model.add(layers.Dense(1, activation = \"sigmoid\"))\n",
        "model.summary()\n",
        "model.compile(optimizer = \"adam\",loss = \"binary_crossentropy\",metrics = [\"accuracy\"])\n",
        "results = model.fit(x_train,y_train,epochs = 20,validation_data=(x_test,y_test))"
      ],
      "metadata": {
        "colab": {
          "base_uri": "https://localhost:8080/"
        },
        "id": "DahrfvtLTj4T",
        "outputId": "4189bd5f-bea5-4952-aef5-d1a56cdd2a81"
      },
      "execution_count": null,
      "outputs": [
        {
          "output_type": "stream",
          "name": "stdout",
          "text": [
            "Model: \"sequential_2\"\n",
            "_________________________________________________________________\n",
            " Layer (type)                Output Shape              Param #   \n",
            "=================================================================\n",
            " dense_8 (Dense)             (None, 50)                500050    \n",
            "                                                                 \n",
            " dense_9 (Dense)             (None, 50)                2550      \n",
            "                                                                 \n",
            " leaky_re_lu_2 (LeakyReLU)   (None, 50)                0         \n",
            "                                                                 \n",
            " dense_10 (Dense)            (None, 35)                1785      \n",
            "                                                                 \n",
            " dense_11 (Dense)            (None, 1)                 36        \n",
            "                                                                 \n",
            "=================================================================\n",
            "Total params: 504,421\n",
            "Trainable params: 504,421\n",
            "Non-trainable params: 0\n",
            "_________________________________________________________________\n",
            "Epoch 1/20\n",
            "1016/1016 [==============================] - 12s 11ms/step - loss: 0.4476 - accuracy: 0.8670 - val_loss: 0.2987 - val_accuracy: 0.8919\n",
            "Epoch 2/20\n",
            "1016/1016 [==============================] - 10s 10ms/step - loss: 0.2263 - accuracy: 0.9232 - val_loss: 0.2895 - val_accuracy: 0.8912\n",
            "Epoch 3/20\n",
            "1016/1016 [==============================] - 10s 9ms/step - loss: 0.1643 - accuracy: 0.9468 - val_loss: 0.3037 - val_accuracy: 0.8903\n",
            "Epoch 4/20\n",
            "1016/1016 [==============================] - 10s 10ms/step - loss: 0.1092 - accuracy: 0.9715 - val_loss: 0.3723 - val_accuracy: 0.8811\n",
            "Epoch 5/20\n",
            "1016/1016 [==============================] - 10s 9ms/step - loss: 0.0674 - accuracy: 0.9881 - val_loss: 0.4263 - val_accuracy: 0.8845\n",
            "Epoch 6/20\n",
            "1016/1016 [==============================] - 10s 9ms/step - loss: 0.0448 - accuracy: 0.9948 - val_loss: 0.4595 - val_accuracy: 0.8819\n",
            "Epoch 7/20\n",
            "1016/1016 [==============================] - 11s 11ms/step - loss: 0.0328 - accuracy: 0.9973 - val_loss: 0.5058 - val_accuracy: 0.8818\n",
            "Epoch 8/20\n",
            "1016/1016 [==============================] - 9s 9ms/step - loss: 0.0274 - accuracy: 0.9980 - val_loss: 0.5413 - val_accuracy: 0.8758\n",
            "Epoch 9/20\n",
            "1016/1016 [==============================] - 10s 9ms/step - loss: 0.0281 - accuracy: 0.9972 - val_loss: 0.5668 - val_accuracy: 0.8807\n",
            "Epoch 10/20\n",
            "1016/1016 [==============================] - 9s 9ms/step - loss: 0.0223 - accuracy: 0.9987 - val_loss: 0.5687 - val_accuracy: 0.8803\n",
            "Epoch 11/20\n",
            "1016/1016 [==============================] - 11s 10ms/step - loss: 0.0174 - accuracy: 0.9995 - val_loss: 0.5728 - val_accuracy: 0.8835\n",
            "Epoch 12/20\n",
            "1016/1016 [==============================] - 10s 10ms/step - loss: 0.0138 - accuracy: 0.9998 - val_loss: 0.5622 - val_accuracy: 0.8834\n",
            "Epoch 13/20\n",
            "1016/1016 [==============================] - 10s 9ms/step - loss: 0.0116 - accuracy: 0.9998 - val_loss: 0.5795 - val_accuracy: 0.8819\n",
            "Epoch 14/20\n",
            "1016/1016 [==============================] - 10s 10ms/step - loss: 0.0098 - accuracy: 0.9999 - val_loss: 0.5681 - val_accuracy: 0.8831\n",
            "Epoch 15/20\n",
            "1016/1016 [==============================] - 10s 9ms/step - loss: 0.0132 - accuracy: 0.9989 - val_loss: 0.6428 - val_accuracy: 0.8798\n",
            "Epoch 16/20\n",
            "1016/1016 [==============================] - 10s 9ms/step - loss: 0.0117 - accuracy: 0.9993 - val_loss: 0.6238 - val_accuracy: 0.8826\n",
            "Epoch 17/20\n",
            "1016/1016 [==============================] - 10s 10ms/step - loss: 0.0088 - accuracy: 0.9998 - val_loss: 0.6094 - val_accuracy: 0.8829\n",
            "Epoch 18/20\n",
            "1016/1016 [==============================] - 9s 9ms/step - loss: 0.0075 - accuracy: 0.9999 - val_loss: 0.5739 - val_accuracy: 0.8832\n",
            "Epoch 19/20\n",
            "1016/1016 [==============================] - 9s 9ms/step - loss: 0.0064 - accuracy: 1.0000 - val_loss: 0.5973 - val_accuracy: 0.8791\n",
            "Epoch 20/20\n",
            "1016/1016 [==============================] - 10s 10ms/step - loss: 0.0057 - accuracy: 1.0000 - val_loss: 0.5962 - val_accuracy: 0.8822\n"
          ]
        }
      ]
    },
    {
      "cell_type": "code",
      "source": [
        "loss_train = results.history['loss']\n",
        "loss_val = results.history['val_loss']\n",
        "plt.plot(epochs, loss_train, 'g', label='Training loss')\n",
        "plt.plot(epochs, loss_val, 'b', label='validation loss')\n",
        "plt.title('Training and Validation loss')\n",
        "plt.xlabel('Epochs')\n",
        "plt.ylabel('Loss')\n",
        "plt.legend()\n",
        "plt.show()"
      ],
      "metadata": {
        "id": "CK9PG6QGTlfM",
        "colab": {
          "base_uri": "https://localhost:8080/",
          "height": 295
        },
        "outputId": "25ccca2b-7201-488c-acad-d85597f5d275"
      },
      "execution_count": null,
      "outputs": [
        {
          "output_type": "display_data",
          "data": {
            "text/plain": [
              "<Figure size 432x288 with 1 Axes>"
            ],
            "image/png": "[encoded data removed]"
          },
          "metadata": {
            "needs_background": "light"
          }
        }
      ]
    },
    {
      "cell_type": "code",
      "source": [
        "acc_train = results.history['accuracy']\n",
        "acc_val = results.history['val_accuracy']\n",
        "plt.plot(epochs, acc_train, 'b', label='Training accuracy')\n",
        "plt.plot(epochs, acc_val, 'g', label='Validation accuracy')\n",
        "plt.xlabel('Epochs')\n",
        "plt.ylabel('Accuracy')\n",
        "plt.legend()\n",
        "plt.show()"
      ],
      "metadata": {
        "id": "kF8f7NrlVKyr",
        "colab": {
          "base_uri": "https://localhost:8080/",
          "height": 279
        },
        "outputId": "3446b75d-1176-4234-ebaa-794612b43bd5"
      },
      "execution_count": null,
      "outputs": [
        {
          "output_type": "display_data",
          "data": {
            "text/plain": [
              "<Figure size 432x288 with 1 Axes>"
            ],
            "image/png": "[encoded data removed]"
          },
          "metadata": {
            "needs_background": "light"
          }
        }
      ]
    },
    {
      "cell_type": "code",
      "source": [
        "del results\n",
        "del loss_train\n",
        "del loss_val\n",
        "del acc_train\n",
        "del acc_val"
      ],
      "metadata": {
        "id": "D4dnYnqfX12f"
      },
      "execution_count": null,
      "outputs": []
    },
    {
      "cell_type": "markdown",
      "source": [
        "#Droput Regularization"
      ],
      "metadata": {
        "id": "sLRGT4dqVmXq"
      }
    },
    {
      "cell_type": "code",
      "source": [
        "model = models.Sequential()\n",
        "#Input\n",
        "model.add(layers.Dense(50, activation = \"relu\", input_shape=(10000,)))\n",
        "#Hidden\n",
        "model.add(layers.Dense(50))\n",
        "model.add(layers.LeakyReLU(alpha = 0.01))\n",
        "model.add(layers.Dropout(0.2))\n",
        "model.add(layers.Dense(35, activation = \"relu\"))\n",
        "model.add(layers.Dropout(0.2))\n",
        "#Output\n",
        "model.add(layers.Dense(1, activation = \"sigmoid\"))\n",
        "model.summary()\n",
        "model.compile(optimizer = \"adam\",loss = \"binary_crossentropy\",metrics = [\"accuracy\"])\n",
        "results = model.fit(x_train,y_train,epochs = 20,validation_data=(x_test,y_test))"
      ],
      "metadata": {
        "id": "0DsZThunVQ05",
        "colab": {
          "base_uri": "https://localhost:8080/"
        },
        "outputId": "ca8e2eaf-bcca-457d-df7b-291d32e717b8"
      },
      "execution_count": null,
      "outputs": [
        {
          "output_type": "stream",
          "name": "stdout",
          "text": [
            "Model: \"sequential_3\"\n",
            "_________________________________________________________________\n",
            " Layer (type)                Output Shape              Param #   \n",
            "=================================================================\n",
            " dense_12 (Dense)            (None, 50)                500050    \n",
            "                                                                 \n",
            " dense_13 (Dense)            (None, 50)                2550      \n",
            "                                                                 \n",
            " leaky_re_lu_3 (LeakyReLU)   (None, 50)                0         \n",
            "                                                                 \n",
            " dropout (Dropout)           (None, 50)                0         \n",
            "                                                                 \n",
            " dense_14 (Dense)            (None, 35)                1785      \n",
            "                                                                 \n",
            " dropout_1 (Dropout)         (None, 35)                0         \n",
            "                                                                 \n",
            " dense_15 (Dense)            (None, 1)                 36        \n",
            "                                                                 \n",
            "=================================================================\n",
            "Total params: 504,421\n",
            "Trainable params: 504,421\n",
            "Non-trainable params: 0\n",
            "_________________________________________________________________\n",
            "Epoch 1/20\n",
            "1016/1016 [==============================] - 13s 12ms/step - loss: 0.3238 - accuracy: 0.8622 - val_loss: 0.2579 - val_accuracy: 0.8951\n",
            "Epoch 2/20\n",
            "1016/1016 [==============================] - 10s 10ms/step - loss: 0.1954 - accuracy: 0.9210 - val_loss: 0.2829 - val_accuracy: 0.8914\n",
            "Epoch 3/20\n",
            "1016/1016 [==============================] - 9s 9ms/step - loss: 0.1226 - accuracy: 0.9502 - val_loss: 0.3443 - val_accuracy: 0.8831\n",
            "Epoch 4/20\n",
            "1016/1016 [==============================] - 9s 9ms/step - loss: 0.0645 - accuracy: 0.9767 - val_loss: 0.4875 - val_accuracy: 0.8755\n",
            "Epoch 5/20\n",
            "1016/1016 [==============================] - 10s 10ms/step - loss: 0.0304 - accuracy: 0.9906 - val_loss: 0.6100 - val_accuracy: 0.8827\n",
            "Epoch 6/20\n",
            "1016/1016 [==============================] - 10s 10ms/step - loss: 0.0192 - accuracy: 0.9934 - val_loss: 0.6649 - val_accuracy: 0.8801\n",
            "Epoch 7/20\n",
            "1016/1016 [==============================] - 10s 10ms/step - loss: 0.0130 - accuracy: 0.9958 - val_loss: 0.9188 - val_accuracy: 0.8650\n",
            "Epoch 8/20\n",
            "1016/1016 [==============================] - 9s 9ms/step - loss: 0.0091 - accuracy: 0.9970 - val_loss: 0.9040 - val_accuracy: 0.8734\n",
            "Epoch 9/20\n",
            "1016/1016 [==============================] - 9s 9ms/step - loss: 0.0076 - accuracy: 0.9972 - val_loss: 0.9018 - val_accuracy: 0.8837\n",
            "Epoch 10/20\n",
            "1016/1016 [==============================] - 9s 9ms/step - loss: 0.0069 - accuracy: 0.9981 - val_loss: 0.8714 - val_accuracy: 0.8819\n",
            "Epoch 11/20\n",
            "1016/1016 [==============================] - 10s 10ms/step - loss: 0.0062 - accuracy: 0.9982 - val_loss: 0.8557 - val_accuracy: 0.8770\n",
            "Epoch 12/20\n",
            "1016/1016 [==============================] - 10s 10ms/step - loss: 0.0054 - accuracy: 0.9983 - val_loss: 1.1144 - val_accuracy: 0.8758\n",
            "Epoch 13/20\n",
            "1016/1016 [==============================] - 9s 9ms/step - loss: 0.0015 - accuracy: 0.9996 - val_loss: 1.2552 - val_accuracy: 0.8797\n",
            "Epoch 14/20\n",
            "1016/1016 [==============================] - 10s 10ms/step - loss: 0.0048 - accuracy: 0.9988 - val_loss: 0.8608 - val_accuracy: 0.8781\n",
            "Epoch 15/20\n",
            "1016/1016 [==============================] - 9s 9ms/step - loss: 0.0065 - accuracy: 0.9982 - val_loss: 0.9794 - val_accuracy: 0.8743\n",
            "Epoch 16/20\n",
            "1016/1016 [==============================] - 10s 10ms/step - loss: 0.0030 - accuracy: 0.9992 - val_loss: 1.1815 - val_accuracy: 0.8792\n",
            "Epoch 17/20\n",
            "1016/1016 [==============================] - 9s 9ms/step - loss: 0.0016 - accuracy: 0.9994 - val_loss: 1.2492 - val_accuracy: 0.8770\n",
            "Epoch 18/20\n",
            "1016/1016 [==============================] - 9s 9ms/step - loss: 0.0018 - accuracy: 0.9994 - val_loss: 1.2740 - val_accuracy: 0.8712\n",
            "Epoch 19/20\n",
            "1016/1016 [==============================] - 10s 10ms/step - loss: 0.0027 - accuracy: 0.9993 - val_loss: 1.0561 - val_accuracy: 0.8734\n",
            "Epoch 20/20\n",
            "1016/1016 [==============================] - 9s 9ms/step - loss: 0.0011 - accuracy: 0.9998 - val_loss: 1.2900 - val_accuracy: 0.8743\n"
          ]
        }
      ]
    },
    {
      "cell_type": "code",
      "source": [
        "import matplotlib.pyplot as plt\n",
        "loss_train = results.history['loss']\n",
        "loss_val = results.history['val_loss']\n",
        "plt.plot(epochs, loss_train, 'g', label='Training loss')\n",
        "plt.plot(epochs, loss_val, 'b', label='validation loss')\n",
        "plt.title('Training and Validation loss')\n",
        "plt.xlabel('Epochs')\n",
        "plt.ylabel('Loss')\n",
        "plt.legend()\n",
        "plt.show()"
      ],
      "metadata": {
        "id": "SxEej20sV1YG",
        "colab": {
          "base_uri": "https://localhost:8080/",
          "height": 295
        },
        "outputId": "98f72b05-68dc-4e04-b11e-54c75c58298e"
      },
      "execution_count": null,
      "outputs": [
        {
          "output_type": "display_data",
          "data": {
            "text/plain": [
              "<Figure size 432x288 with 1 Axes>"
            ],
            "image/png": "[encoded data removed]"
          },
          "metadata": {
            "needs_background": "light"
          }
        }
      ]
    },
    {
      "cell_type": "code",
      "source": [
        "acc_train = results.history['accuracy']\n",
        "acc_val = results.history['val_accuracy']\n",
        "plt.plot(epochs, acc_train, 'b', label='Training accuracy')\n",
        "plt.plot(epochs, acc_val, 'g', label='Validation accuracy')\n",
        "plt.xlabel('Epochs')\n",
        "plt.ylabel('Accuracy')\n",
        "plt.legend()\n",
        "plt.show()"
      ],
      "metadata": {
        "id": "1mYIVqJpV1YI",
        "colab": {
          "base_uri": "https://localhost:8080/",
          "height": 279
        },
        "outputId": "d252abe0-ba33-430b-a03b-0beeb194d687"
      },
      "execution_count": null,
      "outputs": [
        {
          "output_type": "display_data",
          "data": {
            "text/plain": [
              "<Figure size 432x288 with 1 Axes>"
            ],
            "image/png": "[encoded data removed]"
          },
          "metadata": {
            "needs_background": "light"
          }
        }
      ]
    }
  ]
}